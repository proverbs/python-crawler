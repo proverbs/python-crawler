{
 "cells": [
  {
   "cell_type": "markdown",
   "metadata": {},
   "source": [
    "- 代码参考：https://www.gitbook.com/book/germey/python3webspider/details\n",
    "- 主要涉及urllib和requests库"
   ]
  },
  {
   "cell_type": "code",
   "execution_count": null,
   "metadata": {
    "collapsed": false,
    "deletable": true,
    "editable": true
   },
   "outputs": [],
   "source": [
    "import urllib.request\n",
    "\n",
    "response = urllib.request.urlopen('https://www.python.org')\n",
    "print(response.read().decode('utf-8'))"
   ]
  },
  {
   "cell_type": "code",
   "execution_count": null,
   "metadata": {
    "collapsed": false
   },
   "outputs": [],
   "source": [
    "print(type(response))\n",
    "print(response.status)\n",
    "print(response.getheaders())\n",
    "print(response.getheader('Server'))"
   ]
  },
  {
   "cell_type": "code",
   "execution_count": null,
   "metadata": {
    "collapsed": false
   },
   "outputs": [],
   "source": [
    "import urllib.parse\n",
    "import urllib.request\n",
    "\n",
    "data = bytes(urllib.parse.urlencode({'word': 'hello'}), encoding='utf-8')\n",
    "response = urllib.request.urlopen('http://httpbin.org/post', data=data)\n",
    "print(response.read().decode('utf-8'))"
   ]
  },
  {
   "cell_type": "code",
   "execution_count": null,
   "metadata": {
    "collapsed": false
   },
   "outputs": [],
   "source": [
    "import socket\n",
    "import urllib.request\n",
    "import urllib.error\n",
    "\n",
    "try:\n",
    "    response = urllib.request.urlopen('https://www.google.com.hk', timeout=3)\n",
    "except urllib.error.URLError as e:\n",
    "    if isinstance(e.reason, socket.timeout):\n",
    "        print(type(e.reason))\n",
    "        print('TIME OUT')"
   ]
  },
  {
   "cell_type": "markdown",
   "metadata": {},
   "source": [
    "- urlopen是用来发送请求的，参数可是字符串（网址），也可以是Request对象\n",
    "- 使用Request对象可以更加灵活的设计请求内容"
   ]
  },
  {
   "cell_type": "code",
   "execution_count": null,
   "metadata": {
    "collapsed": false
   },
   "outputs": [],
   "source": [
    "import urllib.request\n",
    "\n",
    "request = urllib.request.Request('https://python.org')\n",
    "response = urllib.request.urlopen(request)\n",
    "print(response.read().decode('utf-8'))"
   ]
  },
  {
   "cell_type": "markdown",
   "metadata": {},
   "source": [
    "`class urllib.request.Request(url, data=None, headers={}, origin_req_host=None, unverifiable=False, method=None)`"
   ]
  },
  {
   "cell_type": "code",
   "execution_count": null,
   "metadata": {
    "collapsed": false
   },
   "outputs": [],
   "source": [
    "from urllib import request, parse\n",
    "\n",
    "url = 'http://httpbin.org/post'\n",
    "headers = {\n",
    "    'User-Agent': 'Mozilla/7.0 (compatible; MSIE 5.5; Windows NT)',\n",
    "    'Host': 'httpbin.org'\n",
    "}\n",
    "dict = {\n",
    "    'Name': 'proverbs'\n",
    "}\n",
    "\n",
    "data = bytes(parse.urlencode(dict), encoding='utf-8')\n",
    "req = request.Request(url=url, data=data, headers=headers, method='POST')\n",
    "res = request.urlopen(req)\n",
    "print(res.read().decode('utf-8'))"
   ]
  },
  {
   "cell_type": "markdown",
   "metadata": {},
   "source": [
    "- 利用Handler来构建Opener\n",
    "- Handler相当于高级的Request，Opener相当于高级的urlopen"
   ]
  },
  {
   "cell_type": "code",
   "execution_count": 109,
   "metadata": {
    "collapsed": false
   },
   "outputs": [
    {
     "name": "stdout",
     "output_type": "stream",
     "text": [
      "<!DOCTYPE html PUBLIC \"-//W3C//DTD XHTML 1.0 Transitional//EN\" \"http://www.w3.org/TR/xhtml1/DTD/xhtml1-transitional.dtd\">\n",
      "<html>\n",
      "<head>\n",
      "  <title>Supervisor Status</title>\n",
      "  <link href=\"stylesheets/supervisor.css\" rel=\"stylesheet\" type=\"text/css\" />\n",
      "  <link href=\"images/icon.png\" rel=\"icon\" type=\"image/png\" />\n",
      "</head>\n",
      "<body>\n",
      "<div id=\"wrapper\">\n",
      "\n",
      "  <div id=\"header\">\n",
      "    <img alt=\"Supervisor status\" src=\"images/supervisor.gif\" />\n",
      "  </div>\n",
      "\n",
      "  <div>\n",
      "    <div class=\"hidden\">#</div>\n",
      "\n",
      "    <form action=\"index.html\" method=\"post\">\n",
      "      <ul class=\"clr\" id=\"buttons\">\n",
      "        <li id=\"refresh\"><a href=\"index.html?action=refresh\">&nbsp;</a></li>\n",
      "        <li id=\"restart_all\"><a href=\"index.html?action=restartall\">&nbsp;</a></li>\n",
      "        <li id=\"stop_all\"><a href=\"index.html?action=stopall\">&nbsp;</a></li>\n",
      "      </ul>\n",
      "\n",
      "      <table cellspacing=\"0\">\n",
      "        <thead>\n",
      "        <tr>\n",
      "          <th class=\"state\">State</th>\n",
      "          <th class=\"desc\">Description</th>\n",
      "          <th class=\"name\">Name</th>\n",
      "          <th class=\"action\">Action</th>\n",
      "        </tr>\n",
      "        </thead>\n",
      "\n",
      "        <tbody>\n",
      "          <tr class=\"\">\n",
      "            <td class=\"status\"><span class=\"statusnominal\">stopped</span></td>\n",
      "            <td><span>Mar 17 07:59 PM</span></td>\n",
      "            <td><a href=\"tail.html?processname=course\" target=\"_blank\">course</a></td>\n",
      "            <td class=\"action\">\n",
      "              <ul>\n",
      "                <li>\n",
      "                  <a href=\"index.html?processname=course&amp;action=start\" name=\"Start\">Start</a>\n",
      "                </li>\n",
      "              <li>\n",
      "                  <a class=\"hidden\" href=\"#\" name=\"#\">Action</a>\n",
      "                </li>\n",
      "              <li>\n",
      "                  <a href=\"index.html?processname=course&amp;action=clearlog\" name=\"Clear Log\">Clear Log</a>\n",
      "                </li>\n",
      "              <li>\n",
      "                  <a href=\"logtail/course\" name=\"Tail -f\" target=\"_blank\">Tail -f</a>\n",
      "                </li>\n",
      "              </ul>\n",
      "            </td>\n",
      "          </tr>\n",
      "        </tbody>\n",
      "      </table>\n",
      "    </form>\n",
      "\n",
      "  </div>\n",
      "\n",
      "  <div class=\"push\">\n",
      "  </div>\n",
      "</div>\n",
      "\n",
      "<div class=\"clr\" id=\"footer\">\n",
      "  <div class=\"left\">\n",
      "    <a href=\"http://supervisord.org\">Supervisor</a> <span>3.2.1</span>\n",
      "  </div>\n",
      "  <div class=\"right\">\n",
      "    &copy; 2006-<span>2017</span> <strong><a href=\"http://agendaless.com/\">Agendaless Consulting and Contributors</a></strong>\n",
      "  </div>\n",
      "</div>\n",
      "</body>\n",
      "</html>\n"
     ]
    }
   ],
   "source": [
    "from urllib.request import HTTPPasswordMgrWithDefaultRealm, HTTPBasicAuthHandler, build_opener\n",
    "from urllib.error import URLError\n",
    "\n",
    "username = 'user'\n",
    "password = '123'\n",
    "url = 'http://120.27.34.24:9001'\n",
    "\n",
    "p = HTTPPasswordMgrWithDefaultRealm()\n",
    "p.add_password(None, url, username, password)\n",
    "auth_handler = HTTPBasicAuthHandler(p)\n",
    "opener = build_opener(auth_handler)\n",
    "\n",
    "try:\n",
    "    result = opener.open(url)\n",
    "    html = result.read().decode('utf-8')\n",
    "    print(html)\n",
    "except URLError as e:\n",
    "    print(e.reason)"
   ]
  },
  {
   "cell_type": "markdown",
   "metadata": {},
   "source": [
    "- 以上为认证"
   ]
  },
  {
   "cell_type": "code",
   "execution_count": 54,
   "metadata": {
    "collapsed": false
   },
   "outputs": [
    {
     "name": "stdout",
     "output_type": "stream",
     "text": [
      "{\n",
      "  \"args\": {}, \n",
      "  \"headers\": {\n",
      "    \"Accept\": \"text/html,application/xhtml+xml,application/xml;q=0.9,image/webp,*/*;q=0.8\", \n",
      "    \"Accept-Encoding\": \"identity, deflate, compress, gzip\", \n",
      "    \"Accept-Language\": \"zh-CN,zh;q=0.8,en;q=0.6\", \n",
      "    \"Cache-Control\": \"max-age=0\", \n",
      "    \"Connection\": \"close\", \n",
      "    \"Host\": \"httpbin.org\", \n",
      "    \"If-Modified-Since\": \"Wed, 10 May 2017 04:38:04 GMT\", \n",
      "    \"User-Agent\": \"Mozilla/5.0 (Windows; U; Windows NT 5.2; en-US) AppleWebKit/533.4 (KHTML, like Gecko) Chrome/5.0.375.126 Safari/533.4\"\n",
      "  }, \n",
      "  \"origin\": \"61.191.40.75\", \n",
      "  \"url\": \"http://httpbin.org/get\"\n",
      "}\n",
      "\n"
     ]
    }
   ],
   "source": [
    "from urllib.error import URLError\n",
    "from urllib.request import ProxyHandler, build_opener\n",
    "\n",
    "proxy_handler = ProxyHandler({\n",
    "    'http': 'http://61.191.41.130:80',\n",
    "    'https': 'https://220.167.220.14:808'\n",
    "})\n",
    "opener = build_opener(proxy_handler)\n",
    "try:\n",
    "    response = opener.open('http://httpbin.org/get')\n",
    "    print(response.read().decode('utf-8'))\n",
    "except URLError as e:\n",
    "    print(e.reason)"
   ]
  },
  {
   "cell_type": "markdown",
   "metadata": {},
   "source": [
    "- 以上为代理（https不知道为什么不能用）"
   ]
  },
  {
   "cell_type": "code",
   "execution_count": null,
   "metadata": {
    "collapsed": false
   },
   "outputs": [],
   "source": [
    "import http.cookiejar, urllib.request\n",
    "\n",
    "cookie = http.cookiejar.CookieJar()\n",
    "handler = urllib.request.HTTPCookieProcessor(cookie)\n",
    "opener = urllib.request.build_opener(handler)\n",
    "response = opener.open('http://www.baidu.com')\n",
    "for item in cookie:\n",
    "    print(item.name+\"=\"+item.value)"
   ]
  },
  {
   "cell_type": "code",
   "execution_count": null,
   "metadata": {
    "collapsed": true
   },
   "outputs": [],
   "source": [
    "filename = 'cookie.txt'\n",
    "cookie = http.cookiejar.MozillaCookieJar(filename)\n",
    "handler = urllib.request.HTTPCookieProcessor(cookie)\n",
    "opener = urllib.request.build_opener(handler)\n",
    "response = opener.open('http://www.baidu.com')\n",
    "cookie.save(ignore_discard=True, ignore_expires=True)"
   ]
  },
  {
   "cell_type": "code",
   "execution_count": null,
   "metadata": {
    "collapsed": false
   },
   "outputs": [],
   "source": [
    "cookie = http.cookiejar.MozillaCookieJar()\n",
    "cookie.load('cookie.txt', ignore_discard=True, ignore_expires=True)\n",
    "handler = urllib.request.HTTPCookieProcessor(cookie)\n",
    "opener = urllib.request.build_opener(handler)\n",
    "response = opener.open('http://www.baidu.com')\n",
    "print(response.read().decode('utf-8'))"
   ]
  },
  {
   "cell_type": "markdown",
   "metadata": {},
   "source": [
    "- 以上展示了cookie的显示、存为文件、从文件载入\n",
    "- 需要模仿登录：找到post账号和密码的地址（可以使用http://www.proverbs.top:12345/login ，账号379548839@qq.com，密码xuhao，提取csrf登录）"
   ]
  },
  {
   "cell_type": "markdown",
   "metadata": {},
   "source": [
    "- 一下是关于requests（第三方库）的使用方法\n",
    "- requests库比urllib更为简单和强大"
   ]
  },
  {
   "cell_type": "code",
   "execution_count": 51,
   "metadata": {
    "collapsed": false
   },
   "outputs": [
    {
     "name": "stdout",
     "output_type": "stream",
     "text": [
      "<class 'requests.models.Response'>\n",
      "200\n",
      "<class 'str'>\n",
      "<!DOCTYPE html>\r\n",
      "<!--STATUS OK--><html> <head><meta http-equiv=content-type content=text/html;charset=utf-8><meta http-equiv=X-UA-Compatible content=IE=Edge><meta content=always name=referrer><link rel=stylesheet type=text/css href=https://ss1.bdstatic.com/5eN1bjq8AAUYm2zgoY3K/r/www/cache/bdorz/baidu.min.css><title>ç¾åº¦ä¸ä¸ï¼ä½ å°±ç¥é</title></head> <body link=#0000cc> <div id=wrapper> <div id=head> <div class=head_wrapper> <div class=s_form> <div class=s_form_wrapper> <div id=lg> <img hidefocus=true src=//www.baidu.com/img/bd_logo1.png width=270 height=129> </div> <form id=form name=f action=//www.baidu.com/s class=fm> <input type=hidden name=bdorz_come value=1> <input type=hidden name=ie value=utf-8> <input type=hidden name=f value=8> <input type=hidden name=rsv_bp value=1> <input type=hidden name=rsv_idx value=1> <input type=hidden name=tn value=baidu><span class=\"bg s_ipt_wr\"><input id=kw name=wd class=s_ipt value maxlength=255 autocomplete=off autofocus=autofocus></span><span class=\"bg s_btn_wr\"><input type=submit id=su value=ç¾åº¦ä¸ä¸ class=\"bg s_btn\" autofocus></span> </form> </div> </div> <div id=u1> <a href=http://news.baidu.com name=tj_trnews class=mnav>æ°é»</a> <a href=https://www.hao123.com name=tj_trhao123 class=mnav>hao123</a> <a href=http://map.baidu.com name=tj_trmap class=mnav>å°å¾</a> <a href=http://v.baidu.com name=tj_trvideo class=mnav>è§é¢</a> <a href=http://tieba.baidu.com name=tj_trtieba class=mnav>è´´å§</a> <noscript> <a href=http://www.baidu.com/bdorz/login.gif?login&amp;tpl=mn&amp;u=http%3A%2F%2Fwww.baidu.com%2f%3fbdorz_come%3d1 name=tj_login class=lb>ç»å½</a> </noscript> <script>document.write('<a href=\"http://www.baidu.com/bdorz/login.gif?login&tpl=mn&u='+ encodeURIComponent(window.location.href+ (window.location.search === \"\" ? \"?\" : \"&\")+ \"bdorz_come=1\")+ '\" name=\"tj_login\" class=\"lb\">ç»å½</a>');\r\n",
      "                </script> <a href=//www.baidu.com/more/ name=tj_briicon class=bri style=\"display: block;\">æ´å¤äº§å</a> </div> </div> </div> <div id=ftCon> <div id=ftConw> <p id=lh> <a href=http://home.baidu.com>å",
      "³äºç¾åº¦</a> <a href=http://ir.baidu.com>About Baidu</a> </p> <p id=cp>&copy;2017&nbsp;Baidu&nbsp;<a href=http://www.baidu.com/duty/>ä½¿ç¨ç¾åº¦åå¿",
      "è¯»</a>&nbsp; <a href=http://jianyi.baidu.com/ class=cp-feedback>æè§åé¦</a>&nbsp;äº¬ICPè¯030173å·&nbsp; <img src=//www.baidu.com/img/gs.gif> </p> </div> </div> </div> </body> </html>\r\n",
      "\n",
      "<RequestsCookieJar[<Cookie BDORZ=27315 for .baidu.com/>, <Cookie __bsi=17826813858906658549_00_12_N_N_1_0303_C02F_N_N_N_0 for .www.baidu.com/>]>\n"
     ]
    }
   ],
   "source": [
    "import requests\n",
    "\n",
    "req = requests.get('https://www.baidu.com')\n",
    "print(type(req))\n",
    "print(req.status_code)\n",
    "print(type(req.text))\n",
    "print(req.text)\n",
    "print(req.cookies)\n"
   ]
  },
  {
   "cell_type": "code",
   "execution_count": 55,
   "metadata": {
    "collapsed": false
   },
   "outputs": [
    {
     "name": "stdout",
     "output_type": "stream",
     "text": [
      "{\n",
      "  \"args\": {}, \n",
      "  \"headers\": {\n",
      "    \"Accept\": \"*/*\", \n",
      "    \"Accept-Encoding\": \"gzip, deflate\", \n",
      "    \"Connection\": \"close\", \n",
      "    \"Host\": \"httpbin.org\", \n",
      "    \"User-Agent\": \"python-requests/2.9.1\"\n",
      "  }, \n",
      "  \"origin\": \"120.236.174.143\", \n",
      "  \"url\": \"http://httpbin.org/get\"\n",
      "}\n",
      "\n"
     ]
    }
   ],
   "source": [
    "import requests\n",
    "r = requests.get('http://httpbin.org/get')\n",
    "print(r.text)"
   ]
  },
  {
   "cell_type": "markdown",
   "metadata": {},
   "source": [
    "- 在requests中加入data"
   ]
  },
  {
   "cell_type": "code",
   "execution_count": 58,
   "metadata": {
    "collapsed": false
   },
   "outputs": [
    {
     "name": "stdout",
     "output_type": "stream",
     "text": [
      "<class 'str'>\n",
      "{\n",
      "  \"args\": {\n",
      "    \"age\": \"22\", \n",
      "    \"name\": \"germey\"\n",
      "  }, \n",
      "  \"headers\": {\n",
      "    \"Accept\": \"*/*\", \n",
      "    \"Accept-Encoding\": \"gzip, deflate\", \n",
      "    \"Connection\": \"close\", \n",
      "    \"Host\": \"httpbin.org\", \n",
      "    \"User-Agent\": \"python-requests/2.9.1\"\n",
      "  }, \n",
      "  \"origin\": \"120.236.174.143\", \n",
      "  \"url\": \"http://httpbin.org/get?age=22&name=germey\"\n",
      "}\n",
      "\n",
      "<class 'dict'>\n",
      "{'headers': {'Host': 'httpbin.org', 'User-Agent': 'python-requests/2.9.1', 'Accept': '*/*', 'Connection': 'close', 'Accept-Encoding': 'gzip, deflate'}, 'origin': '120.236.174.143', 'args': {'name': 'germey', 'age': '22'}, 'url': 'http://httpbin.org/get?age=22&name=germey'}\n"
     ]
    }
   ],
   "source": [
    "import requests\n",
    "\n",
    "data = {\n",
    "    'name': 'germey',\n",
    "    'age': 22\n",
    "}\n",
    "r = requests.get(\"http://httpbin.org/get\", params=data)\n",
    "print(type(r.text))\n",
    "print(r.text)\n",
    "print(type(r.json()))\n",
    "print(r.json())"
   ]
  },
  {
   "cell_type": "markdown",
   "metadata": {},
   "source": [
    "- 在requests中加入headers"
   ]
  },
  {
   "cell_type": "code",
   "execution_count": 59,
   "metadata": {
    "collapsed": false
   },
   "outputs": [
    {
     "name": "stdout",
     "output_type": "stream",
     "text": [
      "['\\n俄罗斯远东原住民为什么那么少?\\n', '\\n计算机专业本科就业待遇如何？考研更好？考研方向有哪些？\\n', '\\n如何评价4月新番《与僧侣交合的色欲之夜》？\\n', '\\n什么是「少女心」？\\n', '\\n有哪些演技不错的中国青年演员？\\n', '\\n有哪些原来红极一时，现在已经衰退但是还是有死忠维护着的圈子？\\n', '\\n如何评价 fgo 2017 年一季度手游营收全球第二？\\n', '\\n华为 P10 的疏油层和闪存运存事件以及屏幕拖影事件是否会影响 P10 销量？\\n', '\\n在我家筑巢的鸟攻击我怎么办？\\n', '\\n如何评价电视剧《外科风云》？\\n']\n"
     ]
    }
   ],
   "source": [
    "import requests\n",
    "import re\n",
    "\n",
    "headers = {\n",
    "    'User-Agent': 'Mozilla/5.0 (Macintosh; Intel Mac OS X 10_11_4) AppleWebKit/537.36 (KHTML, like Gecko) Chrome/52.0.2743.116 Safari/537.36'\n",
    "}\n",
    "r = requests.get(\"https://www.zhihu.com/explore\", headers=headers)\n",
    "pattern = re.compile('explore-feed.*?question_link.*?>(.*?)</a>', re.S)\n",
    "titles = re.findall(pattern, r.text)\n",
    "print(titles)"
   ]
  },
  {
   "cell_type": "markdown",
   "metadata": {},
   "source": [
    "- text获取的是str，content获取的是bytes\n",
    "- 可以通过content获取二进制文件（图片，视频，音频等）\n"
   ]
  },
  {
   "cell_type": "code",
   "execution_count": 60,
   "metadata": {
    "collapsed": false
   },
   "outputs": [
    {
     "name": "stdout",
     "output_type": "stream",
     "text": [
      "\u0000\u0000\u0001\u0000\u0002\u0000\u0010\u0010\u0000\u0000\u0001\u0000 \u0000(\u0005\u0000\u0000&\u0000\u0000\u0000  \u0000\u0000\u0001\u0000 \u0000(\u0014\u0000\u0000N\u0005\u0000\u0000(\u0000\u0000\u0000\u0010\u0000\u0000\u0000 \u0000\u0000\u0000\u0001\u0000 \u0000\u0000\u0000\u0000\u0000\u0000\u0005\u0000\u0000\u0000\u0000\u0000\u0000\u0000\u0000\u0000\u0000\u0000\u0000\u0000\u0000\u0000\u0000\u0000\u0000\u0000\u0000\u0000\u0000\u0000\u0000\u0000\u0000\u0000\u0000\u0000\u0000\u0000\u0000\u0000\u0000\u0011\u0011\u0013v\u0013\u0013\u0013�\u000e\u000e\u000e\u0012\u0000\u0000\u0000\u0000\u0000\u0000\u0000\u0000\u000f\u000f\u000f\u0011\u0011\u0011\u0014�\u0013\u0013\u0013i\u0000\u0000\u0000\u0000\u0000\u0000\u0000\u0000\u0000\u0000\u0000\u0000\u0000\u0000\u0000\u0000\u0000\u0000\u0000\u0000\u0000\u0000\u0000\u0000\u0000\u0000\u0000\u0000\u0014\u0014\u0014�\u0013\u0013\u0014�\u0013\u0013\u0014�\u0000\u0000\u0000\u0019\u0000\u0000\u0000\u0000\u0000\u0000\u0000\u0000\u0000\u0000\u0000\u0018\u0015\u0015\u0017�\u0015\u0015\u0017�\u0011\u0011\u0013�\u0000\u0000\u0000\u0000\u0000\u0000\u0000\u0000\u0000\u0000\u0000\u0000\u0000\u0000\u0000\u0000\u0000\u0000\u0000\u0000\u0011\u0011\u0013�\u0013\u0013\u0014�\u0011\u0011\u0011\u001e",
      "\u000f\u000f\u000f\u0010\u0000\u0000\u0000\u0000\u0000\u0000\u0000\u0000\u0000\u0000\u0000\u0000\u0000\u0000\u0000\r",
      "\u0013\u0013\u0014�\u0015\u0015\u0017�\u0015\u0015\u0017�\u0012\u0012\u0014�\u0000\u0000\u0000\u0000\u0000\u0000\u0000\u0000\u0000\u0000\u0000\u0000\u0014\u0014\u0014�\u0015\u0015\u0017�\u0005\u0005\u0011,\r",
      "\r",
      "\r",
      "\\\u000e\u000e\u000f�\u000f\u000f\u000f\"\u0000\u0000\u0000\u0000\u0000\u0000\u0000\u0000\u000e\u000e\u000e4\u0010\u0010\u0010�\u0015\u0015\u0017�\u0015\u0015\u0017�\u0015\u0015\u0017�\u0013\u0013\u0013�\u0000\u0000\u0000\u0000\u000f\u000f\u000f0\u000f\r",
      "\u000f�\u0000\u0000\u0000�\u0001\u0001\u0001�\u0002\u0002\u0002�\u0002\u0002\u0002�\r",
      "\r",
      "\r",
      "8\u0000\u0000\u0000\u0000\u0000\u0000\u0000\u0000\u0007\u0007\u0007@\u0002\u0002\u0002�\u0015\u0015\u0017�\u0015\u0015\u0017�\u0015\u0015\u0017�\u0015\u0015\u0017�\u0011\u0011\u0011-\u0013\u0013\u0016�\u0014\u0014\u0015�\u0001\u0001\u0001�\u000f\u000f\u0011�\f",
      "\f",
      "\u0011;\u0000\u0000\u0000\u0000\u0000\u0000\u0000\u0000\u0000\u0000\u0000\u0000\u0000\u0000\u0000\u0000\u0000\u0000\u0000\u0000\u0000\u0000\u0000\u0000\r",
      "\r",
      "\u0011:\u0013\u0013\u0014�\u0015\u0015\u0017�\u0015\u0015\u0017�\u0013\u0013\u0013�\u0013\u0013\u0013�\u0015\u0015\u0017�\u0015\u0015\u0017�\u0013\u0013\u0013O\u0000\u0000\u0000\u0000\u0000\u0000\u0000\u0000\u0000\u0000\u0000\u0000\u0000\u0000\u0000\u0000\u0000\u0000\u0000\u0000\u0000\u0000\u0000\u0000\u0000\u0000\u0000\u0000\u0000\u0000\u0000\u0000\u0010\u0010\u0010L\u0015\u0015\u0017�\u0015\u0015\u0017�\u0013\u0013\u0013�\u0013\u0013\u0014�\u0015\u0015\u0017�\u0014\u0014\u0014�\u0000\u0000\u0000\u0002\u0000\u0000\u0000\u0000\u0000\u0000\u0000\u0000\u0000\u0000\u0000\u0000\u0000\u0000\u0000\u0000\u0000\u0000\u0000\u0000\u0000\u0000\u0000\u0000\u0000\u0000\u0000\u0000\u0000\u0000\u0000\u0000\u0000\u0000\u0000\u0002\u0013\u0013\u0014�\u0015\u0015\u0017�\u0013\u0013\u0014�\u0013\u0013\u0014�\u0015\u0015\u0017�\u0014\u0014\u0014�\u0000\u0000\u0000\u0000\u0000\u0000\u0000\u0000\u0000\u0000\u0000\u0000\u0000\u0000\u0000\u0000\u0000\u0000\u0000\u0000\u0000\u0000\u0000\u0000\u0000\u0000\u0000\u0000\u0000\u0000\u0000\u0000\u0000\u0000\u0000\u0000\u0000\u0000\u0000\u0000\u0014\u0014\u0014�\u0015\u0015\u0017�\u0013\u0013\u0014�\u0013\u0013\u0014�\u0015\u0015\u0017�\u0013\u0013\u0014�\u000f\u000f\u000f!\u0000\u0000\u0000\u0000\u0000\u0000\u0000\u0000\u0000\u0000\u0000\u0000\u0000\u0000\u0000\u0000\u0000\u0000\u0000\u0000\u0000\u0000\u0000\u0000\u0000\u0000\u0000\u0000\u0000\u0000\u0000\u0000\u0010\u0010\u0010\u001f\u0013\u0013\u0014�\u0015\u0015\u0017�\u0013\u0013\u0014�\u0011\u0011\u0014�\u0015\u0015\u0017�\u0015\u0015\u0017�\u000e\u000e\u000e4\u0000\u0000\u0000\u0000\u0000\u0000\u0000\u0000\u0000\u0000\u0000\u0000\u0000\u0000\u0000\u0000\u0000\u0000\u0000\u0000\u0000\u0000\u0000\u0000\u0000\u0000\u0000\u0000\u0000\u0000\u0000\u0000\u000f\u000f\u000f@\u0015\u0015\u0017�\u0015\u0015\u0017�\u0011\u0011\u0014�\r",
      "\r",
      "\r",
      "8\u0015\u0015\u0017�\u0015\u0015\u0017�\u0012\u0012\u0012�\u0000\u0000\u0000\u0000\u0000\u0000\u0000\f",
      "\u0000\u0000\u0000\n",
      "\u0000\u0000\u0000\u0000\u0000\u0000\u0000\u0000\u0000\u0000\u0000\f",
      "\u0000\u0000\u0000\u0001\u0000\u0000\u0000\u0000\u0012\u0012\u0012�\u0015\u0015\u0017�\u0015\u0015\u0017�\r",
      "\r",
      "\r",
      "8\u0000\u0000\u0000\u0000\u0011\u0011\u0014�\u0015\u0015\u0017�\u0011\u0011\u0013�\u000e\u000e\u000e6\u0000\u0000\u0000�\r",
      "\r",
      "\r",
      "�\u0012\u0012\u0014�\u0012\u0012\u0014�\u0013\u0013\u0014�\u0000\u0000\u0000t\u0004\u0004\u00047\u0011\u0011\u0013�\u0015\u0015\u0017�\u0011\u0011\u0014�\u0000\u0000\u0000\u0000\u0000\u0000\u0000\u0000\u0000\u0000\u0000\u0003\u0013\u0013\u0013�\u0015\u0015\u0017�\u0015\u0015\u0017�\u0015\u0015\u0017�\u0015\u0015\u0017�\u0015\u0015\u0017�\u0015\u0015\u0017�\u0015\u0015\u0017�\u0015\u0015\u0017�\u0015\u0015\u0017�\u0015\u0015\u0017�\u0013\u0013\u0013�\u0000\u0000\u0000\u0003\u0000\u0000\u0000\u0000\u0000\u0000\u0000\u0000\u0000\u0000\u0000\u0000\u0000\u0000\u0000\u0003\u0011\u0011\u0014�\u0015\u0015\u0017�\u0015\u0015\u0017�\u0015\u0015\u0017�\u0015\u0015\u0017�\u0015\u0015\u0017�\u0015\u0015\u0017�\u0015\u0015\u0017�\u0015\u0015\u0017�\u0011\u0011\u0014�\u0000\u0000\u0000\u0003\u0000\u0000\u0000\u0000\u0000\u0000\u0000\u0000\u0000\u0000\u0000\u0000\u0000\u0000\u0000\u0000\u0000\u0000\u0000\u0000\u0000\u0000\u0000\u0000\u0010\u0010\u0010>\u0012\u0012\u0012�\u0013\u0013\u0013�\u0012\u0012\u0014�\u0012\u0012\u0014�\u0013\u0013\u0013�\u0012\u0012\u0012�\u0010\u0010\u0010>\u0000\u0000\u0000\u0000\u0000\u0000\u0000\u0000\u0000\u0000\u0000\u0000\u0000\u0000\u0000\u0000\u0000\u0000\u0000\u0000\u0000\u0000\u0000\u0000\u0000\u0000\u0000\u0000\u0000\u0000\u0000\u0000\u0000\u0000\u0000\u0000\u0000\u0000\u0000\u0000\u0000\u0000\u0000\u0000\u0000\u0000\u0000\u0000\u0000\u0000\u0000\u0000\u0000\u0000\u0000\u0000\u0000\u0000\u0000\u0000\u0000\u0000\u0000\u0000\u0000\u0000\u0000\u0000\u0000\u0000\u0000\u0000\u0000\u0000\u0000\u0000\u0000\u0000\u0000\u0000\u0000\u0000\u0000\u0000\u0000\u0000\u0000\u0000\u0000\u0000\u0000\u0000\u0000\u0000\u0000\u0000\u0000\u0000\u0000\u0000\u0000\u0000\u0000\u0000\u0000\u0000\u0000\u0000\u0000\u0000\u0000\u0000\u0000\u0000\u0000\u0000\u0000\u0000\u0000\u0000\u0000\u0000\u0000\u0000\u0000\u0000\u0000\u0000\u0000\u0000\u0000\u0000\u0000\u0000\u0000\u0000\u0000\u0000\u0000\u0000\u0000\u0000\u0000\u0000\u0000\u0000\u0000\u0000\u0000\u0000\u0000\u0000\u0000\u0000\u0000\u0000\u0000\u0000\u0000\u0000\u0000\u0000\u0000\u0000\u0000\u0000\u0000\u0000\u0000\u0000\u0000\u0000\u0000\u0000\u0000\u0000\u0000\u0000\u0000\u0000\u0000\u0000\u0000\u0000\u0000\u0000\u0000\u0000\u0000\u0000\u0000\u0000\u0000\u0000\u0000\u0000\u0000\u0000\u0000\u0000\u0000\u0000\u0000\u0000\u0000\u0000\u0000\u0000\u0000\u0000\u0000\u0000\u0000\u0000\u0000\u0000\u0000\u0000\u0000\u0000\u0000\u0000\u0000\u0000\u0000\u0000\u0000\u0000\u0000\u0000\u0000\u0000\u0000\u0000\u0000\u0000\u0000\u0000\u0000\u0000\u0000\u0000\u0000\u0000\u0000\u0000\u0000\u0000\u0000\u0000\u0000\u0000\u0000\u0000\u0000\u0000\u0000\u0000\u0000\u0000\u0000\u0000\u0000\u0000\u0000\u0000\u0000\u0000\u0000\u0000\u0000\u0000(\u0000\u0000\u0000 \u0000\u0000\u0000@\u0000\u0000\u0000\u0001\u0000 \u0000\u0000\u0000\u0000\u0000\u0000\u0014\u0000\u0000\u0000\u0000\u0000\u0000\u0000\u0000\u0000\u0000\u0000\u0000\u0000\u0000\u0000\u0000\u0000\u0000\u0000\u0000\u0000\u0000\u0000\u0000\u0000\u0000\u0000\u0000\u0000\u0000\u0000\u0000\u0000\u0000\u0000\u0000\u0000\u0000\u0000\u0000\u0000\u0000\u0000\u0000\u0000\u0000\u0000\u0000\u0000\u0000\u0000\u0000\u0000\u0000\u0000\u0000\u0000\u0000\u0000\u0000\u0000\u0000\u0000\u0000\u0000\u0000\u0000\u0000\u0000\u0000\u0000\u0000\u0000\u0000\u0000\u0000\u0000\u0000\u0000\u0000\u0000\u0000\u0000\u0000\u0000\u0000\u0000\u0000\u0000\u0000\u0000\u0000\u0000\u0000\u0000\u0000\u0000\u0000\u0000\u0000\u0000\u0000\u0000\u0000\u0000\u0000\u0000\u0000\u0000\u0000\u0000\u0000\u0000\u0000\u0000\u0000\u0000\u0000\u0000\u0000\u0000\u0000\u0000\u0000\u0000\u0000\u0000\u0000\u0000\u0000\u0000\u0000\u0000\u0000\u0000\u0000\u0000\u0000\u0000\u0000\u0000\u0000\u0000\u0000\u0000\u0000\u0000\u0000\u0000\u0000\u0000\u0000\u0000\u0000\u0000\u0000\u0000\u0000\u0000\u0000\u0000\u0000\u0000\u0000\u0000\u0000\u0000\u0000\u0000\u0000\u0000\u0000\u0000\u0000\u0000\u0000\u0000\u0000\u0000\u0000\u0000\f",
      "\u0011\u0011\u0013s\u0013\u0013\u0013�\u0013\u0013\u0014�\u0000\u0000\u0000\u0007\u0000\u0000\u0000\u0000\u0000\u0000\u0000\u0000\u0000\u0000\u0000\u0000\u0000\u0000\u0000\u0000\u0000\u0000\u0000\u0000\u0000\u0000\u0000\u0000\u0000\u0000\u0000\u0007\u0013\u0013\u0014�\u0013\u0013\u0013�\u0011\u0011\u0013t\u0000\u0000\u0000\f",
      "\u0000\u0000\u0000\u0000\u0000\u0000\u0000\u0000\u0000\u0000\u0000\u0000\u0000\u0000\u0000\u0000\u0000\u0000\u0000\u0000\u0000\u0000\u0000\u0000\u0000\u0000\u0000\u0000\u0000\u0000\u0000\u0000\u0000\u0000\u0000\u0000\u0000\u0000\u0000\u0000\u0000\u0000\u0000\u0000\u0000\u0000\u0000\u0000\u0000\u0000\u0000\u0000\u0000\u0000\u0000\u0000\u0000\u0000\u0000\u0001\u0011\u0011\u0014d\u0013\u0013\u0014�\u0015\u0015\u0017�\u0015\u0015\u0017�\u0015\u0015\u0017�\u000f\u000f\u000f\u0010\u0000\u0000\u0000\u0000\u0000\u0000\u0000\u0000\u0000\u0000\u0000\u0000\u0000\u0000\u0000\u0000\u0000\u0000\u0000\u0000\u0000\u0000\u0000\u0000\u000f\u000f\u000f\u0010\u0015\u0015\u0017�\u0015\u0015\u0017�\u0015\u0015\u0017�\u0013\u0013\u0014�\u0011\u0011\u0014e\u0000\u0000\u0000\u0001\u0000\u0000\u0000\u0000\u0000\u0000\u0000\u0000\u0000\u0000\u0000\u0000\u0000\u0000\u0000\u0000\u0000\u0000\u0000\u0000\u0000\u0000\u0000\u0000\u0000\u0000\u0000\u0000\u0000\u0000\u0000\u0000\u0000\u0000\u0000\u0000\u0000\u0000\u0000\u0000\u0000\u0000\u0000\u0000\u000e\u000e\u000e\u0012\u0013\u0013\u0013�\u0015\u0015\u0017�\u0015\u0015\u0017�\u0015\u0015\u0017�\u0015\u0015\u0017�\u0015\u0015\u0017�\u000f\u000f\u000f\u0010\u0000\u0000\u0000\u0000\u0000\u0000\u0000\u0000\u0000\u0000\u0000\u0000\u0000\u0000\u0000\u0000\u0000\u0000\u0000\u0000\u0000\u0000\u0000\u0000\u000f\u000f\u000f\u0010\u0015\u0015\u0017�\u0015\u0015\u0017�\u0015\u0015\u0017�\u0015\u0015\u0017�\u0015\u0015\u0017�\u0013\u0013\u0013�\u000e\u000e\u000e\u0012\u0000\u0000\u0000\u0000\u0000\u0000\u0000\u0000\u0000\u0000\u0000\u0000\u0000\u0000\u0000\u0000\u0000\u0000\u0000\u0000\u0000\u0000\u0000\u0000\u0000\u0000\u0000\u0000\u0000\u0000\u0000\u0000\u0000\u0000\u0000\u0000\u0010\u0010\u0010\u001f\u0013\u0013\u0014�\u0015\u0015\u0017�\u0015\u0015\u0017�\u0014\u0014\u0014�\u0011\u0011\u0013u\u000f\u000f\u000f`\u0013\u0013\u0013x\u0000\u0000\u0000\b\u0000\u0000\u0000\u0000\u0000\u0000\u0000\u0000\u0000\u0000\u0000\u0000\u0000\u0000\u0000\u0000\u0000\u0000\u0000\u0000\u0000\u0000\u0000\u0000\u000f\u000f\u000f\u0010\u0015\u0015\u0017�\u0015\u0015\u0017�\u0015\u0015\u0017�\u0015\u0015\u0017�\u0015\u0015\u0017�\u0015\u0015\u0017�\u0013\u0013\u0014�\u0010\u0010\u0010\u001f\u0000\u0000\u0000\u0000\u0000\u0000\u0000\u0000\u0000\u0000\u0000\u0000\u0000\u0000\u0000\u0000\u0000\u0000\u0000\u0000\u0000\u0000\u0000\u0000\u0000\u0000\u0000\u0000\u0000\u0000\u0000\u0018\u0013\u0013\u0014�\u0015\u0015\u0017�\u0015\u0015\u0017�\u0012\u0012\u0012o\u0000\u0000\u0000\u0000\u0000\u0000\u0000\u0000\u0000\u0000\u0000\u0000\u0000\u0000\u0000\u0000\u0000\u0000\u0000\u0000\u0000\u0000\u0000\u0000\u0000\u0000\u0000\u0000\u0000\u0000\u0000\u0000\u0000\u0000\u0000\u0000\u0000\u0000\u0000\u0000\u0000\u0000\u0000\u0000\u000f\u000f\u000f\u0010\u0015\u0015\u0017�\u0015\u0015\u0017�\u0015\u0015\u0017�\u0015\u0015\u0017�\u0015\u0015\u0017�\u0015\u0015\u0017�\u0015\u0015\u0017�\u0013\u0013\u0014�\u0000\u0000\u0000\u0018\u0000\u0000\u0000\u0000\u0000\u0000\u0000\u0000\u0000\u0000\u0000\u0000\u0000\u0000\u0000\u0000\u0000\u0000\u0000\u0000\u0000\u0000\u0000\u0004\u0013\u0013\u0013�\u0015\u0015\u0017�\u0015\u0015\u0017�\u0013\u0013\u0014�\u0000\u0000\u0000\u0000\u000f\u000f\u000f\u0010\u000f\u000f\u000fc\u0012\u0012\u0012z\u000e\u000e\u000eF\u0000\u0000\u0000\u0003\u0000\u0000\u0000\u0000\u0000\u0000\u0000\u0000\u0000\u0000\u0000\u0000\u0000\u0000\u0000\u0000\u0000\u0000\u0000\u0000\u0000\u0000\u0000\u0000\f",
      "\f",
      "\f",
      "\u0015\u0015\u0015\u0017�\u0015\u0015\u0017�\u0015\u0015\u0017�\u0015\u0015\u0017�\u0015\u0015\u0017�\u0015\u0015\u0017�\u0015\u0015\u0017�\u0015\u0015\u0017�\u0013\u0013\u0013�\u0000\u0000\u0000\u0004\u0000\u0000\u0000\u0000\u0000\u0000\u0000\u0000\u0000\u0000\u0000\u0000\u0000\u0000\u0000\u0000\u0012\u0012\u0012~\u0015\u0015\u0017�\u0015\u0015\u0017�\u0015\u0015\u0017�\r",
      "\r",
      "\r",
      "8\u000f\u000f\u000f!\u0013\u0013\u0013�\u0015\u0015\u0017�\u0015\u0015\u0017�\u0015\u0015\u0017�\u0011\u0011\u0011<\u0000\u0000\u0000\u0000\u0000\u0000\u0000\u0000\u0000\u0000\u0000\u0000\u0000\u0000\u0000\u0000\u0000\u0000\u0000\u0000\u0000\u0000\u0000\u0000\u0010\u0010\u0010>\u0015\u0015\u0017�\u0015\u0015\u0017�\u0015\u0015\u0017�\u0015\u0015\u0017�\u0015\u0015\u0017�\u0015\u0015\u0017�\u0015\u0015\u0017�\u0015\u0015\u0017�\u0015\u0015\u0017�\u0012\u0012\u0012~\u0000\u0000\u0000\u0000\u0000\u0000\u0000\u0000\u0000\u0000\u0000\u0000\u0011\u0011\u0011\u001e",
      "\u0013\u0013\u0014�\u0015\u0015\u0017�\u0013\u0013\u0014�\u0011\u0011\u0013s\u0000\u0000\u0000\u0007\u0013\u0013\u0014�\u0015\u0015\u0017�\u0015\u0015\u0017�\u0015\u0015\u0017�\u0015\u0015\u0017�\u0013\u0013\u0014�\u0000\u0000\u0000\u0001\u0000\u0000\u0000\u0000\u0000\u0000\u0000\u0000\u0000\u0000\u0000\u0000\u0000\u0000\u0000\u0000\u0000\u0000\u0000\u0001\u0011\u0011\u0014�\u0015\u0015\u0017�\u0015\u0015\u0017�\u0015\u0015\u0017�\u0015\u0015\u0017�\u0015\u0015\u0017�\u0015\u0015\u0017�\u0015\u0015\u0017�\u0015\u0015\u0017�\u0015\u0015\u0017�\u0013\u0013\u0014�\u0011\u0011\u0011\u001e",
      "\u0000\u0000\u0000\u0000\u0000\u0000\u0000\u0000\u0012\u0012\u0012�\u0015\u0015\u0017�\u0015\u0015\u0017�\u0012\u0012\u0012�\u0010\u0010\u0010?\u0011\u0011\u0013�\u0015\u0015\u0017�\u0015\u0015\u0017�\u0013\u0013\u0014�\u0013\u0013\u0016�\u0011\u0011\u0014e\u000e\u000e\u000e4\u0000\u0000\u0000\u0003\u0000\u0000\u0000\u0000\u0000\u0000\u0000\u0000\u0000\u0000\u0000\u0000\u0000\u0000\u0000\u0000\u0000\u0000\u0000\u0004\r",
      "\r",
      "\u00119\u000e\u000e\u0013h\u0013\u0013\u0014�\u0013\u0013\u0014�\u0015\u0015\u0017�\u0015\u0015\u0017�\u0015\u0015\u0017�\u0015\u0015\u0017�\u0015\u0015\u0017�\u0015\u0015\u0017�\u0015\u0015\u0017�\u0012\u0012\u0012�\u0000\u0000\u0000\u0000\u0000\u0000\u0000\r",
      "\u0013\u0013\u0014�\u0015\u0015\u0017�\u0015\u0015\u0017�\u0015\u0015\u0017�\u0015\u0015\u0017�\u0015\u0015\u0017�\u0015\u0015\u0017�\u0013\u0013\u0014�\u0000\u0000\u0000\u0018\u0000\u0000\u0000\u0000\u0000\u0000\u0000\u0000\u0000\u0000\u0000\u0000\u0000\u0000\u0000\u0000\u0000\u0000\u0000\u0000\u0000\u0000\u0000\u0000\u0000\u0000\u0000\u0000\u0000\u0000\u0000\u0000\u0000\u0000\u0000\u0000\u0000\u0000\u0000\u0000\u0000\u0000\u0000\u0000\u0000\u0000\u0000\u0000\u0000\u0000\u0000\u0019\u0013\u0013\u0014�\u0015\u0015\u0017�\u0015\u0015\u0017�\u0015\u0015\u0017�\u0015\u0015\u0017�\u0015\u0015\u0017�\u0015\u0015\u0017�\u0013\u0013\u0014�\u0000\u0000\u0000\r",
      "\u000e\u000e\u0014Y\u0015\u0015\u0017�\u0015\u0015\u0017�\u0015\u0015\u0017�\u0015\u0015\u0017�\u0015\u0015\u0017�\u0015\u0015\u0017�\u0013\u0013\u0013�\u0000\u0000\u0000\u0000\u0000\u0000\u0000\u0000\u0000\u0000\u0000\u0000\u0000\u0000\u0000\u0000\u0000\u0000\u0000\u0000\u0000\u0000\u0000\u0000\u0000\u0000\u0000\u0000\u0000\u0000\u0000\u0000\u0000\u0000\u0000\u0000\u0000\u0000\u0000\u0000\u0000\u0000\u0000\u0000\u0000\u0000\u0000\u0000\u0000\u0000\u0000\u0000\u0000\u0000\u0000\u0000\u0000\u0000\u0000\u0000\u0000\u0000\u0000\u0000\u0013\u0013\u0013�\u0015\u0015\u0017�\u0015\u0015\u0017�\u0015\u0015\u0017�\u0015\u0015\u0017�\u0015\u0015\u0017�\u0015\u0015\u0017�\u000e\u000e\u0014Y\u0013\u0013\u0013�\u0015\u0015\u0017�\u0015\u0015\u0017�\u0015\u0015\u0017�\u0015\u0015\u0017�\u0015\u0015\u0017�\u0011\u0011\u0014�\u0000\u0000\u0000\u0004\u0000\u0000\u0000\u0000\u0000\u0000\u0000\u0000\u0000\u0000\u0000\u0000\u0000\u0000\u0000\u0000\u0000\u0000\u0000\u0000\u0000\u0000\u0000\u0000\u0000\u0000\u0000\u0000\u0000\u0000\u0000\u0000\u0000\u0000\u0000\u0000\u0000\u0000\u0000\u0000\u0000\u0000\u0000\u0000\u0000\u0000\u0000\u0000\u0000\u0000\u0000\u0000\u0000\u0000\u0000\u0000\u0000\u0000\u0000\u0000\u0000\u0000\u0000\u0000\u0000\u0000\u0000\u0004\u0011\u0011\u0014�\u0015\u0015\u0017�\u0015\u0015\u0017�\u0015\u0015\u0017�\u0015\u0015\u0017�\u0015\u0015\u0017�\u0013\u0013\u0013�\u0011\u0011\u0014�\u0015\u0015\u0017�\u0015\u0015\u0017�\u0015\u0015\u0017�\u0015\u0015\u0017�\u0015\u0015\u0017�\u0012\u0012\u0012^\u0000\u0000\u0000\u0000\u0000\u0000\u0000\u0000\u0000\u0000\u0000\u0000\u0000\u0000\u0000\u0000\u0000\u0000\u0000\u0000\u0000\u0000\u0000\u0000\u0000\u0000\u0000\u0000\u0000\u0000\u0000\u0000\u0000\u0000\u0000\u0000\u0000\u0000\u0000\u0000\u0000\u0000\u0000\u0000\u0000\u0000\u0000\u0000\u0000\u0000\u0000\u0000\u0000\u0000\u0000\u0000\u0000\u0000\u0000\u0000\u0000\u0000\u0000\u0000\u0000\u0000\u0000\u0000\u0000\u0000\u0000\u0000\u0012\u0012\u0012^\u0015\u0015\u0017�\u0015\u0015\u0017�\u0015\u0015\u0017�\u0015\u0015\u0017�\u0015\u0015\u0017�\u0011\u0011\u0014�\u0012\u0012\u0014�\u0015\u0015\u0017�\u0015\u0015\u0017�\u0015\u0015\u0017�\u0015\u0015\u0017�\u0015\u0015\u0017�\u0000\u0000\u0000\u0016\u0000\u0000\u0000\u0000\u0000\u0000\u0000\u0000\u0000\u0000\u0000\u0000\u0000\u0000\u0000\u0000\u0000\u0000\u0000\u0000\u0000\u0000\u0000\u0000\u0000\u0000\u0000\u0000\u0000\u0000\u0000\u0000\u0000\u0000\u0000\u0000\u0000\u0000\u0000\u0000\u0000\u0000\u0000\u0000\u0000\u0000\u0000\u0000\u0000\u0000\u0000\u0000\u0000\u0000\u0000\u0000\u0000\u0000\u0000\u0000\u0000\u0000\u0000\u0000\u0000\u0000\u0000\u0000\u0000\u0000\u0000\u0000\u0000\u0000\u0000\u0016\u0015\u0015\u0017�\u0015\u0015\u0017�\u0015\u0015\u0017�\u0015\u0015\u0017�\u0015\u0015\u0017�\u0012\u0012\u0014�\u0015\u0015\u0017�\u0015\u0015\u0017�\u0015\u0015\u0017�\u0015\u0015\u0017�\u0015\u0015\u0017�\u0012\u0012\u0014�\u0000\u0000\u0000\u0000\u0000\u0000\u0000\u0000\u0000\u0000\u0000\u0000\u0000\u0000\u0000\u0000\u0000\u0000\u0000\u0000\u0000\u0000\u0000\u0000\u0000\u0000\u0000\u0000\u0000\u0000\u0000\u0000\u0000\u0000\u0000\u0000\u0000\u0000\u0000\u0000\u0000\u0000\u0000\u0000\u0000\u0000\u0000\u0000\u0000\u0000\u0000\u0000\u0000\u0000\u0000\u0000\u0000\u0000\u0000\u0000\u0000\u0000\u0000\u0000\u0000\u0000\u0000\u0000\u0000\u0000\u0000\u0000\u0000\u0000\u0000\u0000\u0000\u0000\u0000\u0000\u0012\u0012\u0014�\u0015\u0015\u0017�\u0015\u0015\u0017�\u0015\u0015\u0017�\u0015\u0015\u0017�\u0015\u0015\u0017�\u0015\u0015\u0017�\u0015\u0015\u0017�\u0015\u0015\u0017�\u0015\u0015\u0017�\u0015\u0015\u0017�\u0013\u0013\u0014�\u0000\u0000\u0000\u0000\u0000\u0000\u0000\u0000\u0000\u0000\u0000\u0000\u0000\u0000\u0000\u0000\u0000\u0000\u0000\u0000\u0000\u0000\u0000\u0000\u0000\u0000\u0000\u0000\u0000\u0000\u0000\u0000\u0000\u0000\u0000\u0000\u0000\u0000\u0000\u0000\u0000\u0000\u0000\u0000\u0000\u0000\u0000\u0000\u0000\u0000\u0000\u0000\u0000\u0000\u0000\u0000\u0000\u0000\u0000\u0000\u0000\u0000\u0000\u0000\u0000\u0000\u0000\u0000\u0000\u0000\u0000\u0000\u0000\u0000\u0000\u0000\u0000\u0000\u0000\u0000\u0013\u0013\u0014�\u0015\u0015\u0017�\u0015\u0015\u0017�\u0015\u0015\u0017�\u0015\u0015\u0017�\u0015\u0015\u0017�\u0013\u0013\u0014�\u0015\u0015\u0017�\u0015\u0015\u0017�\u0015\u0015\u0017�\u0015\u0015\u0017�\u0014\u0014\u0014�\u0000\u0000\u0000\u0000\u0000\u0000\u0000\u0000\u0000\u0000\u0000\u0000\u0000\u0000\u0000\u0000\u0000\u0000\u0000\u0000\u0000\u0000\u0000\u0000\u0000\u0000\u0000\u0000\u0000\u0000\u0000\u0000\u0000\u0000\u0000\u0000\u0000\u0000\u0000\u0000\u0000\u0000\u0000\u0000\u0000\u0000\u0000\u0000\u0000\u0000\u0000\u0000\u0000\u0000\u0000\u0000\u0000\u0000\u0000\u0000\u0000\u0000\u0000\u0000\u0000\u0000\u0000\u0000\u0000\u0000\u0000\u0000\u0000\u0000\u0000\u0000\u0000\u0000\u0000\u0000\u0014\u0014\u0014�\u0015\u0015\u0017�\u0015\u0015\u0017�\u0015\u0015\u0017�\u0015\u0015\u0017�\u0013\u0013\u0014�\u0013\u0013\u0014�\u0015\u0015\u0017�\u0015\u0015\u0017�\u0015\u0015\u0017�\u0015\u0015\u0017�\u0013\u0013\u0014�\u0011\u0011\u0011\u000f\u0000\u0000\u0000\u0000\u0000\u0000\u0000\u0000\u0000\u0000\u0000\u0000\u0000\u0000\u0000\u0000\u0000\u0000\u0000\u0000\u0000\u0000\u0000\u0000\u0000\u0000\u0000\u0000\u0000\u0000\u0000\u0000\u0000\u0000\u0000\u0000\u0000\u0000\u0000\u0000\u0000\u0000\u0000\u0000\u0000\u0000\u0000\u0000\u0000\u0000\u0000\u0000\u0000\u0000\u0000\u0000\u0000\u0000\u0000\u0000\u0000\u0000\u0000\u0000\u0000\u0000\u0000\u0000\u0000\u0000\u0000\u0000\u0011\u0011\u0011\u000f\u0013\u0013\u0014�\u0015\u0015\u0017�\u0015\u0015\u0017�\u0015\u0015\u0017�\u0015\u0015\u0017�\u0013\u0013\u0014�\u0013\u0013\u0013�\u0015\u0015\u0017�\u0015\u0015\u0017�\u0015\u0015\u0017�\u0015\u0015\u0017�\u0015\u0015\u0017�\u000f\u000f\u000fb\u0000\u0000\u0000\u0000\u0000\u0000\u0000\u0000\u0000\u0000\u0000\u0000\u0000\u0000\u0000\u0000\u0000\u0000\u0000\u0000\u0000\u0000\u0000\u0000\u0000\u0000\u0000\u0000\u0000\u0000\u0000\u0000\u0000\u0000\u0000\u0000\u0000\u0000\u0000\u0000\u0000\u0000\u0000\u0000\u0000\u0000\u0000\u0000\u0000\u0000\u0000\u0000\u0000\u0000\u0000\u0000\u0000\u0000\u0000\u0000\u0000\u0000\u0000\u0000\u0000\u0000\u0000\u0000\u0000\u0000\u0000\u0000\u000f\u000f\u000fb\u0015\u0015\u0017�\u0015\u0015\u0017�\u0015\u0015\u0017�\u0015\u0015\u0017�\u0015\u0015\u0017�\u0013\u0013\u0013�\u000e\u000e\u0013g\u0015\u0015\u0017�\u0015\u0015\u0017�\u0015\u0015\u0017�\u0015\u0015\u0017�\u0015\u0015\u0017�\u0013\u0013\u0016�\u000e\u000e\u000e\u0012\u0000\u0000\u0000\u0000\u0000\u0000\u0000\u0000\u0000\u0000\u0000\u0000\u0000\u0000\u0000\u0000\u0000\u0000\u0000\u0000\u0000\u0000\u0000\u0000\u0000\u0000\u0000\u0000\u0000\u0000\u0000\u0000\u0000\u0000\u0000\u0000\u0000\u0000\u0000\u0000\u0000\u0000\u0000\u0000\u0000\u0000\u0000\u0000\u0000\u0000\u0000\u0000\u0000\u0000\u0000\u0000\u0000\u0000\u0000\u0000\u0000\u0000\u0000\u0000\u000e\u000e\u000e\u0012\u0013\u0013\u0013�\u0015\u0015\u0017�\u0015\u0015\u0017�\u0015\u0015\u0017�\u0015\u0015\u0017�\u0015\u0015\u0017�\u000e\u000e\u0013g\u0000\u0000\u0000\u0018\u0013\u0013\u0014�\u0015\u0015\u0017�\u0015\u0015\u0017�\u0015\u0015\u0017�\u0015\u0015\u0017�\u0015\u0015\u0017�\u0012\u0012\u0012_\u0000\u0000\u0000\u0000\u0000\u0000\u0000\u0000\u0000\u0000\u0000\u0000\u0000\u0000\u0000\u0000\u0000\u0000\u0000\u0000\u0000\u0000\u0000\u0000\u0000\u0000\u0000\u0000\u0000\u0000\u0000\u0000\u0000\u0000\u0000\u0000\u0000\u0000\u0000\u0000\u0000\u0000\u0000\u0000\u0000\u0000\u0000\u0000\u0000\u0000\u0000\u0000\u0000\u0000\u0000\u0000\u0000\u0000\u0000\u0000\u0000\u0000\u0000\u0000\u0012\u0012\u0012_\u0015\u0015\u0017�\u0015\u0015\u0017�\u0015\u0015\u0017�\u0015\u0015\u0017�\u0015\u0015\u0017�\u0013\u0013\u0014�\u0000\u0000\u0000\u0018\u0000\u0000\u0000\u0000\u0013\u0013\u0014�\u0015\u0015\u0017�\u0015\u0015\u0017�\u0015\u0015\u0017�\u0015\u0015\u0017�\u0015\u0015\u0017�\u000e\u000e\u000e5\u0000\u0000\u0000\u0000\u0000\u0000\u0000\u0000\u0000\u0000\u0000\u0000\u0000\u0000\u0000\u0000\u0000\u0000\u0000\u0000\u0000\u0000\u0000\u0000\u0000\u0000\u0000\u0000\u0000\u0000\u0000\u0000\u0000\u0000\u0000\u0000\u0000\u0000\u0000\u0000\u0000\u0000\u0000\u0000\u0000\u0000\u0000\u0000\u0000\u0000\u0000\u0000\u0000\u0000\u0000\u0000\u0000\u0000\u0000\u0000\u0000\u0000\u0000\u0000\u000e\u000e\u000e5\u0015\u0015\u0017�\u0015\u0015\u0017�\u0015\u0015\u0017�\u0015\u0015\u0017�\u0015\u0015\u0017�\u0013\u0013\u0014�\u0000\u0000\u0000\u0000\u0000\u0000\u0000\u0000\u000e\u000e\u000e4\u0015\u0015\u0017�\u0015\u0015\u0017�\u0015\u0015\u0017�\u0015\u0015\u0017�\u0015\u0015\u0017�\u000f\u000f\u000f2\u0000\u0000\u0000\u0000\u0000\u0000\u0000\u0000\u0000\u0000\u0000\u0000\u0011\u0011\u0011\u000f\f",
      "\f",
      "\f",
      "(\u0000\u0000\u0000\u0002\u0000\u0000\u0000\u0000\u0000\u0000\u0000\u0000\u0000\u0000\u0000\u0000\u0000\u0000\u0000\u0000\u0000\u0000\u0000\u0002\f",
      "\f",
      "\f",
      "(\u0011\u0011\u0011\u000f\u0000\u0000\u0000\u0000\u0000\u0000\u0000\u0000\u0000\u0000\u0000\u0000\u000f\u000f\u000f2\u0015\u0015\u0017�\u0015\u0015\u0017�\u0015\u0015\u0017�\u0015\u0015\u0017�\u0015\u0015\u0017�\u000e\u000e\u000e4\u0000\u0000\u0000\u0000\u0000\u0000\u0000\u0000\u0000\u0000\u0000\u0000\u0013\u0013\u0014�\u0015\u0015\u0017�\u0015\u0015\u0017�\u0015\u0015\u0017�\u0015\u0015\u0017�\u0013\u0013\u0013\\\u0000\u0000\u0000\u0000\u0000\u0000\u0000\u0007\u000f\u000f\u000fc\u0013\u0013\u0014�\u0015\u0015\u0017�\u0013\u0013\u0014�\u0014\u0014\u0014�\u0011\u0011\u0013�\u0011\u0011\u0013�\u0014\u0014\u0014�\u0013\u0013\u0014�\u0015\u0015\u0017�\u0013\u0013\u0014�\u000f\u000f\u000fc\u0000\u0000\u0000\u0007\u0000\u0000\u0000\u0000\u0013\u0013\u0013\\\u0015\u0015\u0017�\u0015\u0015\u0017�\u0015\u0015\u0017�\u0015\u0015\u0017�\u0013\u0013\u0014�\u0000\u0000\u0000\u0000\u0000\u0000\u0000\u0000\u0000\u0000\u0000\u0000\u0000\u0000\u0000\u0000\u000f\u000f\u000f\u0011\u0013\u0013\u0014�\u0015\u0015\u0017�\u0015\u0015\u0017�\u0015\u0015\u0017�\u0013\u0013\u0014�\u0013\u0013\u0014�\u0013\u0013\u0014�\u0015\u0015\u0017�\u0015\u0015\u0017�\u0015\u0015\u0017�\u0015\u0015\u0017�\u0015\u0015\u0017�\u0015\u0015\u0017�\u0015\u0015\u0017�\u0015\u0015\u0017�\u0015\u0015\u0017�\u0015\u0015\u0017�\u0015\u0015\u0017�\u0015\u0015\u0017�\u0013\u0013\u0014�\u0013\u0013\u0014�\u0013\u0013\u0014�\u0015\u0015\u0017�\u0015\u0015\u0017�\u0015\u0015\u0017�\u0013\u0013\u0014�\u000f\u000f\u000f\u0011\u0000\u0000\u0000\u0000\u0000\u0000\u0000\u0000\u0000\u0000\u0000\u0000\u0000\u0000\u0000\u0000\u0000\u0000\u0000\u0000\u000f\u000f\u000f3\u0013\u0013\u0014�\u0015\u0015\u0017�\u0015\u0015\u0017�\u0015\u0015\u0017�\u0015\u0015\u0017�\u0015\u0015\u0017�\u0015\u0015\u0017�\u0015\u0015\u0017�\u0015\u0015\u0017�\u0015\u0015\u0017�\u0015\u0015\u0017�\u0015\u0015\u0017�\u0015\u0015\u0017�\u0015\u0015\u0017�\u0015\u0015\u0017�\u0015\u0015\u0017�\u0015\u0015\u0017�\u0015\u0015\u0017�\u0015\u0015\u0017�\u0015\u0015\u0017�\u0015\u0015\u0017�\u0015\u0015\u0017�\u0015\u0015\u0017�\u0013\u0013\u0014�\u000f\u000f\u000f3\u0000\u0000\u0000\u0000\u0000\u0000\u0000\u0000\u0000\u0000\u0000\u0000\u0000\u0000\u0000\u0000\u0000\u0000\u0000\u0000\u0000\u0000\u0000\u0000\u0000\u0000\u0000\u0000\u000f\u000f\u000fB\u0013\u0013\u0014�\u0015\u0015\u0017�\u0015\u0015\u0017�\u0015\u0015\u0017�\u0015\u0015\u0017�\u0015\u0015\u0017�\u0015\u0015\u0017�\u0015\u0015\u0017�\u0015\u0015\u0017�\u0015\u0015\u0017�\u0015\u0015\u0017�\u0015\u0015\u0017�\u0015\u0015\u0017�\u0015\u0015\u0017�\u0015\u0015\u0017�\u0015\u0015\u0017�\u0015\u0015\u0017�\u0015\u0015\u0017�\u0015\u0015\u0017�\u0015\u0015\u0017�\u0015\u0015\u0017�\u0013\u0013\u0014�\u000f\u000f\u000fB\u0000\u0000\u0000\u0000\u0000\u0000\u0000\u0000\u0000\u0000\u0000\u0000\u0000\u0000\u0000\u0000\u0000\u0000\u0000\u0000\u0000\u0000\u0000\u0000\u0000\u0000\u0000\u0000\u0000\u0000\u0000\u0000\u0000\u0000\u0000\u0000\u000f\u000f\u000f1\u0013\u0013\u0014�\u0015\u0015\u0017�\u0015\u0015\u0017�\u0015\u0015\u0017�\u0015\u0015\u0017�\u0015\u0015\u0017�\u0015\u0015\u0017�\u0015\u0015\u0017�\u0015\u0015\u0017�\u0015\u0015\u0017�\u0015\u0015\u0017�\u0015\u0015\u0017�\u0015\u0015\u0017�\u0015\u0015\u0017�\u0015\u0015\u0017�\u0015\u0015\u0017�\u0015\u0015\u0017�\u0015\u0015\u0017�\u0015\u0015\u0017�\u0013\u0013\u0014�\u000f\u000f\u000f1\u0000\u0000\u0000\u0000\u0000\u0000\u0000\u0000\u0000\u0000\u0000\u0000\u0000\u0000\u0000\u0000\u0000\u0000\u0000\u0000\u0000\u0000\u0000\u0000\u0000\u0000\u0000\u0000\u0000\u0000\u0000\u0000\u0000\u0000\u0000\u0000\u0000\u0000\u0000\u0000\u0000\u0000\u0000\u0000\u0011\u0011\u0011\u000f\u0013\u0013\u0013�\u0013\u0013\u0014�\u0015\u0015\u0017�\u0015\u0015\u0017�\u0015\u0015\u0017�\u0015\u0015\u0017�\u0015\u0015\u0017�\u0015\u0015\u0017�\u0015\u0015\u0017�\u0015\u0015\u0017�\u0015\u0015\u0017�\u0015\u0015\u0017�\u0015\u0015\u0017�\u0015\u0015\u0017�\u0015\u0015\u0017�\u0015\u0015\u0017�\u0013\u0013\u0014�\u0013\u0013\u0013�\u0011\u0011\u0011\u000f\u0000\u0000\u0000\u0000\u0000\u0000\u0000\u0000\u0000\u0000\u0000\u0000\u0000\u0000\u0000\u0000\u0000\u0000\u0000\u0000\u0000\u0000\u0000\u0000\u0000\u0000\u0000\u0000\u0000\u0000\u0000\u0000\u0000\u0000\u0000\u0000\u0000\u0000\u0000\u0000\u0000\u0000\u0000\u0000\u0000\u0000\u0000\u0000\u0000\u0000\u0000\u0000\u0000\u0000\u0000\u0000\u000f\u000f\u000f1\u0013\u0013\u0013�\u0013\u0013\u0014�\u0015\u0015\u0017�\u0015\u0015\u0017�\u0015\u0015\u0017�\u0015\u0015\u0017�\u0015\u0015\u0017�\u0015\u0015\u0017�\u0015\u0015\u0017�\u0015\u0015\u0017�\u0015\u0015\u0017�\u0015\u0015\u0017�\u0013\u0013\u0014�\u0013\u0013\u0013�\u000f\u000f\u000f1\u0000\u0000\u0000\u0000\u0000\u0000\u0000\u0000\u0000\u0000\u0000\u0000\u0000\u0000\u0000\u0000\u0000\u0000\u0000\u0000\u0000\u0000\u0000\u0000\u0000\u0000\u0000\u0000\u0000\u0000\u0000\u0000\u0000\u0000\u0000\u0000\u0000\u0000\u0000\u0000\u0000\u0000\u0000\u0000\u0000\u0000\u0000\u0000\u0000\u0000\u0000\u0000\u0000\u0000\u0000\u0000\u0000\u0000\u0000\u0000\u0000\u0000\u0000\u0000\u0000\u0000\u0000\u0000\u0000\u0000\u0000\u0000\f",
      "\f",
      "\f",
      "\u0014\u000f\u000f\u000fc\u0011\u0011\u0014�\u0014\u0014\u0014�\u0013\u0013\u0014�\u0015\u0015\u0017�\u0015\u0015\u0017�\u0013\u0013\u0014�\u0014\u0014\u0014�\u0011\u0011\u0014�\u000f\u000f\u000fc\f",
      "\f",
      "\f",
      "\u0014\u0000\u0000\u0000\u0000\u0000\u0000\u0000\u0000\u0000\u0000\u0000\u0000\u0000\u0000\u0000\u0000\u0000\u0000\u0000\u0000\u0000\u0000\u0000\u0000\u0000\u0000\u0000\u0000\u0000\u0000\u0000\u0000\u0000\u0000\u0000\u0000\u0000\u0000\u0000\u0000\u0000\u0000\u0000\u0000\u0000\u0000\u0000\u0000\u0000\u0000\u0000\u0000\u0000\u0000\u0000\u0000\u0000\u0000\u0000\u0000\u0000\u0000\u0000\u0000\u0000\u0000\u0000\u0000\u0000\u0000\u0000\u0000\u0000\u0000\u0000\u0000\u0000\u0000\u0000\u0000\u0000\u0000\u0000\u0000\u0000\u0000\u0000\u0000\u0000\u0000\u0000\u0000\u0000\u0000\u0000\u0000\u0000\u0000\u0000\u0000\u0000\u0000\u0000\u0000\u0000\u0000\u0000\u0000\u0000\u0000\u0000\u0000\u0000\u0000\u0000\u0000\u0000\u0000\u0000\u0000\u0000\u0000\u0000\u0000\u0000\u0000\u0000\u0000\u0000\u0000\u0000\u0000\u0000\u0000\u0000\u0000\u0000\u0000\u0000\u0000\u0000\u0000\u0000\u0000\u0000\u0000\u0000\u0000\u0000\u0000\u0000\u0000\u0000\u0000\u0000\u0000\u0000\u0000\u0000\u0000\u0000\u0000\u0000\u0000\u0000\u0000\u0000\u0000\u0000\u0000\u0000\u0000\u0000\u0000\u0000\u0000\u0000\u0000\u0000\u0000\u0000\u0000\u0000\u0000\u0000\u0000\u0000\u0000\u0000\u0000\u0000\u0000\u0000\u0000\u0000\u0000\u0000\u0000\u0000\u0000\u0000\u0000\u0000\u0000\u0000\u0000\u0000\u0000\u0000\u0000\u0000\u0000\u0000\u0000\u0000\u0000\u0000\u0000\u0000\u0000\u0000\u0000\u0000\u0000\u0000\u0000\u0000\u0000\u0000\u0000\u0000\u0000\u0000\u0000\u0000\u0000\u0000\u0000\u0000\u0000\u0000\u0000\u0000\u0000\u0000\u0000\u0000\u0000\u0000\u0000\u0000\u0000\u0000\u0000\u0000\u0000\u0000\u0000\u0000\u0000\u0000\u0000\u0000\u0000\u0000\u0000\u0000\u0000\u0000\u0000\u0000\u0000\u0000\u0000\u0000\u0000\u0000\u0000\u0000\u0000\u0000\u0000\u0000\u0000\u0000\u0000\u0000\u0000\u0000\u0000\u0000\u0000\u0000\u0000\u0000\u0000\u0000\u0000\u0000\u0000\u0000\u0000\u0000\u0000\u0000\u0000\u0000\u0000\u0000\u0000\u0000\u0000\u0000\u0000\u0000\u0000\u0000\u0000\u0000\u0000\u0000\u0000\u0000\u0000\u0000\u0000\u0000\u0000\u0000\u0000\u0000\u0000\u0000\u0000\u0000\u0000\u0000\u0000\u0000\u0000\u0000\u0000\u0000\u0000\u0000\u0000\u0000\u0000\u0000\u0000\u0000\u0000\u0000\u0000\u0000\u0000\u0000\u0000\u0000\u0000\u0000\u0000\u0000\u0000\u0000\u0000\u0000\u0000\u0000\u0000\u0000\u0000\u0000\u0000\u0000\u0000\u0000\u0000\u0000\u0000\u0000\u0000\u0000\u0000\u0000\u0000\u0000\u0000\u0000\u0000\u0000\u0000\u0000\u0000\u0000\u0000\u0000\u0000\u0000\u0000\u0000\u0000\u0000\u0000\u0000\u0000\u0000\u0000\u0000\u0000\u0000\u0000\u0000\u0000\u0000\u0000\u0000\u0000\u0000\u0000\u0000\u0000\u0000\u0000\u0000\u0000\u0000\u0000\u0000\u0000\u0000\u0000\u0000\u0000\u0000\u0000\u0000\u0000\u0000\u0000\u0000\u0000\u0000\u0000\u0000\u0000\u0000\u0000\u0000\u0000\u0000\u0000\u0000\u0000\u0000\u0000\u0000\u0000\u0000\u0000\u0000\u0000\u0000\u0000\u0000\u0000\u0000\u0000\u0000\u0000\u0000\u0000\u0000\u0000\u0000\u0000\u0000\u0000\u0000\u0000\u0000\u0000\u0000\u0000\u0000\u0000\u0000\u0000\u0000\u0000\u0000\u0000\u0000\u0000\u0000\u0000\u0000\u0000\u0000\u0000\u0000\u0000\u0000\u0000\u0000\u0000\u0000\u0000\u0000\u0000\u0000\u0000\u0000\u0000\u0000\u0000\u0000\u0000\u0000\u0000\u0000\u0000\u0000\u0000\u0000\u0000\u0000\u0000\u0000\u0000\u0000\u0000\u0000\u0000\u0000\u0000\u0000\u0000\u0000\u0000\u0000\u0000\u0000\u0000\u0000\u0000\u0000\u0000\u0000\u0000\u0000\u0000\u0000\u0000\u0000\u0000\u0000\u0000\u0000\u0000\u0000\u0000\u0000\u0000\u0000\u0000\u0000\u0000\u0000\u0000\u0000\u0000\u0000\u0000\u0000\u0000\u0000\u0000\u0000\u0000\u0000\u0000\u0000\u0000\u0000\u0000\u0000\u0000\u0000\u0000\u0000\u0000\u0000\u0000\u0000\u0000\u0000\u0000\u0000\u0000\u0000\u0000\u0000\u0000\u0000\u0000\u0000\u0000\u0000\u0000\u0000\u0000\u0000\u0000\u0000\u0000\u0000\u0000\u0000\u0000\u0000\u0000\u0000\u0000\u0000\u0000\u0000\u0000\u0000\u0000\u0000\u0000\u0000\u0000\u0000\u0000\u0000\u0000\u0000\u0000\u0000\u0000\u0000\u0000\u0000\u0000\u0000\u0000\u0000\u0000\u0000\u0000\u0000\u0000\u0000\u0000\u0000\u0000\u0000\u0000\u0000\u0000\u0000\u0000\u0000\u0000\u0000\u0000\u0000\u0000\u0000\u0000\u0000\u0000\u0000\u0000\u0000\u0000\u0000\u0000\u0000\u0000\u0000\u0000\u0000\u0000\u0000\u0000\u0000\u0000\u0000\u0000\u0000\u0000\u0000\u0000\u0000\u0000\u0000\u0000\u0000\u0000\u0000\u0000\u0000\u0000\u0000\u0000\u0000\u0000\u0000\u0000\u0000\u0000\u0000\u0000\u0000\u0000\u0000\u0000\u0000\u0000\u0000\u0000\u0000\u0000\u0000\u0000\u0000\u0000\u0000\u0000\u0000\u0000\u0000\u0000\u0000\u0000\u0000\u0000\u0000\u0000\u0000\u0000\u0000\u0000\u0000\u0000\u0000\u0000\u0000\u0000\u0000\u0000\u0000\u0000\u0000\u0000\u0000\u0000\u0000\u0000\u0000\u0000\u0000\u0000\u0000\u0000\u0000\u0000\u0000\u0000\u0000\u0000\u0000\u0000\u0000\u0000\u0000\u0000\u0000\u0000\u0000\u0000\u0000\u0000\u0000\u0000\u0000\u0000\u0000\u0000\u0000\u0000\u0000\u0000\u0000\u0000\u0000\u0000\u0000\u0000\u0000\u0000\u0000\u0000\u0000\u0000\u0000\u0000\u0000\u0000\u0000\u0000\u0000\u0000\u0000\u0000\u0000\u0000\u0000\u0000\u0000\u0000\u0000\u0000\u0000\u0000\u0000\u0000\u0000\u0000\u0000\u0000\u0000\u0000\u0000\u0000\u0000\u0000\u0000\u0000\u0000\u0000\u0000\u0000\u0000\u0000\u0000\u0000\u0000\u0000\u0000\u0000\u0000\u0000\u0000\u0000\u0000\u0000\u0000\u0000\u0000\u0000\u0000\u0000\u0000\u0000\u0000\u0000\u0000\u0000\u0000\u0000\u0000\u0000\u0000\u0000\u0000\u0000\u0000\u0000\u0000\u0000\u0000\u0000\u0000\u0000\u0000\u0000\u0000\u0000\u0000\u0000\u0000\u0000\u0000\u0000\u0000\u0000\u0000\u0000\u0000\u0000\u0000\u0000\u0000\u0000\u0000\u0000\u0000\u0000\u0000\u0000\u0000\u0000\u0000\u0000\u0000\u0000\u0000\u0000\u0000\u0000\u0000\u0000\u0000\u0000\u0000\u0000\u0000\u0000\u0000\u0000\u0000\u0000\u0000\u0000\u0000\u0000\u0000\u0000\u0000\u0000\u0000\u0000\u0000\u0000\u0000\u0000\u0000\u0000\u0000\u0000\u0000\u0000\u0000\u0000\u0000\u0000\u0000\u0000\u0000\u0000\u0000\u0000\u0000\u0000\u0000\u0000\u0000\u0000\u0000\u0000\u0000\u0000\u0000\u0000\u0000\u0000\u0000\u0000\u0000\u0000\u0000\u0000\u0000\u0000\u0000\u0000\u0000\u0000\u0000\u0000\u0000\u0000\u0000\u0000\u0000\u0000\u0000\u0000\u0000\u0000\u0000\u0000\u0000\u0000\u0000\u0000\u0000\u0000\u0000\u0000\u0000\u0000\u0000\u0000\u0000\u0000\u0000\u0000\u0000\u0000\u0000\u0000\u0000\u0000\u0000\u0000\u0000\u0000\u0000\u0000\u0000\u0000\u0000\u0000\u0000\u0000\u0000\u0000\u0000\u0000\u0000\u0000\u0000\u0000\u0000\u0000\u0000\u0000\u0000\u0000\u0000\u0000\u0000\u0000\u0000\u0000\u0000\u0000\u0000\u0000\n",
      "b'\\x00\\x00\\x01\\x00\\x02\\x00\\x10\\x10\\x00\\x00\\x01\\x00 \\x00(\\x05\\x00\\x00&\\x00\\x00\\x00  \\x00\\x00\\x01\\x00 \\x00(\\x14\\x00\\x00N\\x05\\x00\\x00(\\x00\\x00\\x00\\x10\\x00\\x00\\x00 \\x00\\x00\\x00\\x01\\x00 \\x00\\x00\\x00\\x00\\x00\\x00\\x05\\x00\\x00\\x00\\x00\\x00\\x00\\x00\\x00\\x00\\x00\\x00\\x00\\x00\\x00\\x00\\x00\\x00\\x00\\x00\\x00\\x00\\x00\\x00\\x00\\x00\\x00\\x00\\x00\\x00\\x00\\x00\\x00\\x00\\x00\\x11\\x11\\x13v\\x13\\x13\\x13\\xc5\\x0e\\x0e\\x0e\\x12\\x00\\x00\\x00\\x00\\x00\\x00\\x00\\x00\\x0f\\x0f\\x0f\\x11\\x11\\x11\\x14\\xb1\\x13\\x13\\x13i\\x00\\x00\\x00\\x00\\x00\\x00\\x00\\x00\\x00\\x00\\x00\\x00\\x00\\x00\\x00\\x00\\x00\\x00\\x00\\x00\\x00\\x00\\x00\\x00\\x00\\x00\\x00\\x00\\x14\\x14\\x14\\x96\\x13\\x13\\x14\\xfc\\x13\\x13\\x14\\xed\\x00\\x00\\x00\\x19\\x00\\x00\\x00\\x00\\x00\\x00\\x00\\x00\\x00\\x00\\x00\\x18\\x15\\x15\\x17\\xff\\x15\\x15\\x17\\xff\\x11\\x11\\x13\\x85\\x00\\x00\\x00\\x00\\x00\\x00\\x00\\x00\\x00\\x00\\x00\\x00\\x00\\x00\\x00\\x00\\x00\\x00\\x00\\x00\\x11\\x11\\x13\\xc1\\x13\\x13\\x14\\xee\\x11\\x11\\x11\\x1e\\x0f\\x0f\\x0f\\x10\\x00\\x00\\x00\\x00\\x00\\x00\\x00\\x00\\x00\\x00\\x00\\x00\\x00\\x00\\x00\\r\\x13\\x13\\x14\\xf5\\x15\\x15\\x17\\xff\\x15\\x15\\x17\\xff\\x12\\x12\\x14\\xaf\\x00\\x00\\x00\\x00\\x00\\x00\\x00\\x00\\x00\\x00\\x00\\x00\\x14\\x14\\x14\\x99\\x15\\x15\\x17\\xff\\x05\\x05\\x11,\\r\\r\\r\\\\\\x0e\\x0e\\x0f\\xc1\\x0f\\x0f\\x0f\"\\x00\\x00\\x00\\x00\\x00\\x00\\x00\\x00\\x0e\\x0e\\x0e4\\x10\\x10\\x10\\xff\\x15\\x15\\x17\\xff\\x15\\x15\\x17\\xff\\x15\\x15\\x17\\xff\\x13\\x13\\x13\\x8f\\x00\\x00\\x00\\x00\\x0f\\x0f\\x0f0\\x0f\\r\\x0f\\xff\\x00\\x00\\x00\\xf9\\x01\\x01\\x01\\xed\\x02\\x02\\x02\\xff\\x02\\x02\\x02\\xf6\\r\\r\\r8\\x00\\x00\\x00\\x00\\x00\\x00\\x00\\x00\\x07\\x07\\x07@\\x02\\x02\\x02\\xeb\\x15\\x15\\x17\\xff\\x15\\x15\\x17\\xff\\x15\\x15\\x17\\xff\\x15\\x15\\x17\\xff\\x11\\x11\\x11-\\x13\\x13\\x16\\x9c\\x14\\x14\\x15\\xff\\x01\\x01\\x01\\xfc\\x0f\\x0f\\x11\\xfb\\x0c\\x0c\\x11;\\x00\\x00\\x00\\x00\\x00\\x00\\x00\\x00\\x00\\x00\\x00\\x00\\x00\\x00\\x00\\x00\\x00\\x00\\x00\\x00\\x00\\x00\\x00\\x00\\r\\r\\x11:\\x13\\x13\\x14\\xe7\\x15\\x15\\x17\\xff\\x15\\x15\\x17\\xff\\x13\\x13\\x13\\x9a\\x13\\x13\\x13\\xd9\\x15\\x15\\x17\\xff\\x15\\x15\\x17\\xff\\x13\\x13\\x13O\\x00\\x00\\x00\\x00\\x00\\x00\\x00\\x00\\x00\\x00\\x00\\x00\\x00\\x00\\x00\\x00\\x00\\x00\\x00\\x00\\x00\\x00\\x00\\x00\\x00\\x00\\x00\\x00\\x00\\x00\\x00\\x00\\x10\\x10\\x10L\\x15\\x15\\x17\\xff\\x15\\x15\\x17\\xff\\x13\\x13\\x13\\xda\\x13\\x13\\x14\\xf6\\x15\\x15\\x17\\xff\\x14\\x14\\x14\\xf0\\x00\\x00\\x00\\x02\\x00\\x00\\x00\\x00\\x00\\x00\\x00\\x00\\x00\\x00\\x00\\x00\\x00\\x00\\x00\\x00\\x00\\x00\\x00\\x00\\x00\\x00\\x00\\x00\\x00\\x00\\x00\\x00\\x00\\x00\\x00\\x00\\x00\\x00\\x00\\x02\\x13\\x13\\x14\\xf1\\x15\\x15\\x17\\xff\\x13\\x13\\x14\\xf6\\x13\\x13\\x14\\xf7\\x15\\x15\\x17\\xff\\x14\\x14\\x14\\xe1\\x00\\x00\\x00\\x00\\x00\\x00\\x00\\x00\\x00\\x00\\x00\\x00\\x00\\x00\\x00\\x00\\x00\\x00\\x00\\x00\\x00\\x00\\x00\\x00\\x00\\x00\\x00\\x00\\x00\\x00\\x00\\x00\\x00\\x00\\x00\\x00\\x00\\x00\\x00\\x00\\x14\\x14\\x14\\xe1\\x15\\x15\\x17\\xff\\x13\\x13\\x14\\xf7\\x13\\x13\\x14\\xde\\x15\\x15\\x17\\xff\\x13\\x13\\x14\\xf9\\x0f\\x0f\\x0f!\\x00\\x00\\x00\\x00\\x00\\x00\\x00\\x00\\x00\\x00\\x00\\x00\\x00\\x00\\x00\\x00\\x00\\x00\\x00\\x00\\x00\\x00\\x00\\x00\\x00\\x00\\x00\\x00\\x00\\x00\\x00\\x00\\x10\\x10\\x10\\x1f\\x13\\x13\\x14\\xf8\\x15\\x15\\x17\\xff\\x13\\x13\\x14\\xde\\x11\\x11\\x14\\xa2\\x15\\x15\\x17\\xff\\x15\\x15\\x17\\xff\\x0e\\x0e\\x0e4\\x00\\x00\\x00\\x00\\x00\\x00\\x00\\x00\\x00\\x00\\x00\\x00\\x00\\x00\\x00\\x00\\x00\\x00\\x00\\x00\\x00\\x00\\x00\\x00\\x00\\x00\\x00\\x00\\x00\\x00\\x00\\x00\\x0f\\x0f\\x0f@\\x15\\x15\\x17\\xff\\x15\\x15\\x17\\xff\\x11\\x11\\x14\\xa2\\r\\r\\r8\\x15\\x15\\x17\\xff\\x15\\x15\\x17\\xff\\x12\\x12\\x12\\x98\\x00\\x00\\x00\\x00\\x00\\x00\\x00\\x0c\\x00\\x00\\x00\\n\\x00\\x00\\x00\\x00\\x00\\x00\\x00\\x00\\x00\\x00\\x00\\x0c\\x00\\x00\\x00\\x01\\x00\\x00\\x00\\x00\\x12\\x12\\x12\\x98\\x15\\x15\\x17\\xff\\x15\\x15\\x17\\xff\\r\\r\\r8\\x00\\x00\\x00\\x00\\x11\\x11\\x14\\xa4\\x15\\x15\\x17\\xff\\x11\\x11\\x13\\xc1\\x0e\\x0e\\x0e6\\x00\\x00\\x00\\x81\\r\\r\\r\\xdc\\x12\\x12\\x14\\xd8\\x12\\x12\\x14\\xd8\\x13\\x13\\x14\\xf7\\x00\\x00\\x00t\\x04\\x04\\x047\\x11\\x11\\x13\\xc1\\x15\\x15\\x17\\xff\\x11\\x11\\x14\\xa4\\x00\\x00\\x00\\x00\\x00\\x00\\x00\\x00\\x00\\x00\\x00\\x03\\x13\\x13\\x13\\xc6\\x15\\x15\\x17\\xff\\x15\\x15\\x17\\xff\\x15\\x15\\x17\\xff\\x15\\x15\\x17\\xff\\x15\\x15\\x17\\xff\\x15\\x15\\x17\\xff\\x15\\x15\\x17\\xff\\x15\\x15\\x17\\xff\\x15\\x15\\x17\\xff\\x15\\x15\\x17\\xff\\x13\\x13\\x13\\xc6\\x00\\x00\\x00\\x03\\x00\\x00\\x00\\x00\\x00\\x00\\x00\\x00\\x00\\x00\\x00\\x00\\x00\\x00\\x00\\x03\\x11\\x11\\x14\\xa2\\x15\\x15\\x17\\xff\\x15\\x15\\x17\\xff\\x15\\x15\\x17\\xff\\x15\\x15\\x17\\xff\\x15\\x15\\x17\\xff\\x15\\x15\\x17\\xff\\x15\\x15\\x17\\xff\\x15\\x15\\x17\\xff\\x11\\x11\\x14\\xa2\\x00\\x00\\x00\\x03\\x00\\x00\\x00\\x00\\x00\\x00\\x00\\x00\\x00\\x00\\x00\\x00\\x00\\x00\\x00\\x00\\x00\\x00\\x00\\x00\\x00\\x00\\x00\\x00\\x10\\x10\\x10>\\x12\\x12\\x12\\x97\\x13\\x13\\x13\\xd9\\x12\\x12\\x14\\xf2\\x12\\x12\\x14\\xf2\\x13\\x13\\x13\\xd9\\x12\\x12\\x12\\x97\\x10\\x10\\x10>\\x00\\x00\\x00\\x00\\x00\\x00\\x00\\x00\\x00\\x00\\x00\\x00\\x00\\x00\\x00\\x00\\x00\\x00\\x00\\x00\\x00\\x00\\x00\\x00\\x00\\x00\\x00\\x00\\x00\\x00\\x00\\x00\\x00\\x00\\x00\\x00\\x00\\x00\\x00\\x00\\x00\\x00\\x00\\x00\\x00\\x00\\x00\\x00\\x00\\x00\\x00\\x00\\x00\\x00\\x00\\x00\\x00\\x00\\x00\\x00\\x00\\x00\\x00\\x00\\x00\\x00\\x00\\x00\\x00\\x00\\x00\\x00\\x00\\x00\\x00\\x00\\x00\\x00\\x00\\x00\\x00\\x00\\x00\\x00\\x00\\x00\\x00\\x00\\x00\\x00\\x00\\x00\\x00\\x00\\x00\\x00\\x00\\x00\\x00\\x00\\x00\\x00\\x00\\x00\\x00\\x00\\x00\\x00\\x00\\x00\\x00\\x00\\x00\\x00\\x00\\x00\\x00\\x00\\x00\\x00\\x00\\x00\\x00\\x00\\x00\\x00\\x00\\x00\\x00\\x00\\x00\\x00\\x00\\x00\\x00\\x00\\x00\\x00\\x00\\x00\\x00\\x00\\x00\\x00\\x00\\x00\\x00\\x00\\x00\\x00\\x00\\x00\\x00\\x00\\x00\\x00\\x00\\x00\\x00\\x00\\x00\\x00\\x00\\x00\\x00\\x00\\x00\\x00\\x00\\x00\\x00\\x00\\x00\\x00\\x00\\x00\\x00\\x00\\x00\\x00\\x00\\x00\\x00\\x00\\x00\\x00\\x00\\x00\\x00\\x00\\x00\\x00\\x00\\x00\\x00\\x00\\x00\\x00\\x00\\x00\\x00\\x00\\x00\\x00\\x00\\x00\\x00\\x00\\x00\\x00\\x00\\x00\\x00\\x00\\x00\\x00\\x00\\x00\\x00\\x00\\x00\\x00\\x00\\x00\\x00\\x00\\x00\\x00\\x00\\x00\\x00\\x00\\x00\\x00\\x00\\x00\\x00\\x00\\x00\\x00\\x00\\x00\\x00\\x00\\x00\\x00\\x00\\x00\\x00\\x00\\x00\\x00\\x00\\x00\\x00\\x00\\x00\\x00\\x00\\x00\\x00\\x00\\x00\\x00\\x00\\x00\\x00\\x00\\x00\\x00\\x00\\x00(\\x00\\x00\\x00 \\x00\\x00\\x00@\\x00\\x00\\x00\\x01\\x00 \\x00\\x00\\x00\\x00\\x00\\x00\\x14\\x00\\x00\\x00\\x00\\x00\\x00\\x00\\x00\\x00\\x00\\x00\\x00\\x00\\x00\\x00\\x00\\x00\\x00\\x00\\x00\\x00\\x00\\x00\\x00\\x00\\x00\\x00\\x00\\x00\\x00\\x00\\x00\\x00\\x00\\x00\\x00\\x00\\x00\\x00\\x00\\x00\\x00\\x00\\x00\\x00\\x00\\x00\\x00\\x00\\x00\\x00\\x00\\x00\\x00\\x00\\x00\\x00\\x00\\x00\\x00\\x00\\x00\\x00\\x00\\x00\\x00\\x00\\x00\\x00\\x00\\x00\\x00\\x00\\x00\\x00\\x00\\x00\\x00\\x00\\x00\\x00\\x00\\x00\\x00\\x00\\x00\\x00\\x00\\x00\\x00\\x00\\x00\\x00\\x00\\x00\\x00\\x00\\x00\\x00\\x00\\x00\\x00\\x00\\x00\\x00\\x00\\x00\\x00\\x00\\x00\\x00\\x00\\x00\\x00\\x00\\x00\\x00\\x00\\x00\\x00\\x00\\x00\\x00\\x00\\x00\\x00\\x00\\x00\\x00\\x00\\x00\\x00\\x00\\x00\\x00\\x00\\x00\\x00\\x00\\x00\\x00\\x00\\x00\\x00\\x00\\x00\\x00\\x00\\x00\\x00\\x00\\x00\\x00\\x00\\x00\\x00\\x00\\x00\\x00\\x00\\x00\\x00\\x00\\x00\\x00\\x00\\x00\\x00\\x00\\x00\\x00\\x00\\x00\\x00\\x00\\x00\\x00\\x00\\x00\\x00\\x00\\x0c\\x11\\x11\\x13s\\x13\\x13\\x13\\xda\\x13\\x13\\x14\\xec\\x00\\x00\\x00\\x07\\x00\\x00\\x00\\x00\\x00\\x00\\x00\\x00\\x00\\x00\\x00\\x00\\x00\\x00\\x00\\x00\\x00\\x00\\x00\\x00\\x00\\x00\\x00\\x00\\x00\\x00\\x00\\x07\\x13\\x13\\x14\\xec\\x13\\x13\\x13\\xda\\x11\\x11\\x13t\\x00\\x00\\x00\\x0c\\x00\\x00\\x00\\x00\\x00\\x00\\x00\\x00\\x00\\x00\\x00\\x00\\x00\\x00\\x00\\x00\\x00\\x00\\x00\\x00\\x00\\x00\\x00\\x00\\x00\\x00\\x00\\x00\\x00\\x00\\x00\\x00\\x00\\x00\\x00\\x00\\x00\\x00\\x00\\x00\\x00\\x00\\x00\\x00\\x00\\x00\\x00\\x00\\x00\\x00\\x00\\x00\\x00\\x00\\x00\\x00\\x00\\x00\\x00\\x01\\x11\\x11\\x14d\\x13\\x13\\x14\\xea\\x15\\x15\\x17\\xff\\x15\\x15\\x17\\xff\\x15\\x15\\x17\\xff\\x0f\\x0f\\x0f\\x10\\x00\\x00\\x00\\x00\\x00\\x00\\x00\\x00\\x00\\x00\\x00\\x00\\x00\\x00\\x00\\x00\\x00\\x00\\x00\\x00\\x00\\x00\\x00\\x00\\x0f\\x0f\\x0f\\x10\\x15\\x15\\x17\\xff\\x15\\x15\\x17\\xff\\x15\\x15\\x17\\xff\\x13\\x13\\x14\\xeb\\x11\\x11\\x14e\\x00\\x00\\x00\\x01\\x00\\x00\\x00\\x00\\x00\\x00\\x00\\x00\\x00\\x00\\x00\\x00\\x00\\x00\\x00\\x00\\x00\\x00\\x00\\x00\\x00\\x00\\x00\\x00\\x00\\x00\\x00\\x00\\x00\\x00\\x00\\x00\\x00\\x00\\x00\\x00\\x00\\x00\\x00\\x00\\x00\\x00\\x00\\x00\\x0e\\x0e\\x0e\\x12\\x13\\x13\\x13\\xb7\\x15\\x15\\x17\\xff\\x15\\x15\\x17\\xff\\x15\\x15\\x17\\xff\\x15\\x15\\x17\\xff\\x15\\x15\\x17\\xff\\x0f\\x0f\\x0f\\x10\\x00\\x00\\x00\\x00\\x00\\x00\\x00\\x00\\x00\\x00\\x00\\x00\\x00\\x00\\x00\\x00\\x00\\x00\\x00\\x00\\x00\\x00\\x00\\x00\\x0f\\x0f\\x0f\\x10\\x15\\x15\\x17\\xff\\x15\\x15\\x17\\xff\\x15\\x15\\x17\\xff\\x15\\x15\\x17\\xff\\x15\\x15\\x17\\xff\\x13\\x13\\x13\\xb7\\x0e\\x0e\\x0e\\x12\\x00\\x00\\x00\\x00\\x00\\x00\\x00\\x00\\x00\\x00\\x00\\x00\\x00\\x00\\x00\\x00\\x00\\x00\\x00\\x00\\x00\\x00\\x00\\x00\\x00\\x00\\x00\\x00\\x00\\x00\\x00\\x00\\x00\\x00\\x00\\x00\\x10\\x10\\x10\\x1f\\x13\\x13\\x14\\xdb\\x15\\x15\\x17\\xff\\x15\\x15\\x17\\xff\\x14\\x14\\x14\\xc3\\x11\\x11\\x13u\\x0f\\x0f\\x0f`\\x13\\x13\\x13x\\x00\\x00\\x00\\x08\\x00\\x00\\x00\\x00\\x00\\x00\\x00\\x00\\x00\\x00\\x00\\x00\\x00\\x00\\x00\\x00\\x00\\x00\\x00\\x00\\x00\\x00\\x00\\x00\\x0f\\x0f\\x0f\\x10\\x15\\x15\\x17\\xff\\x15\\x15\\x17\\xff\\x15\\x15\\x17\\xff\\x15\\x15\\x17\\xff\\x15\\x15\\x17\\xff\\x15\\x15\\x17\\xff\\x13\\x13\\x14\\xdb\\x10\\x10\\x10\\x1f\\x00\\x00\\x00\\x00\\x00\\x00\\x00\\x00\\x00\\x00\\x00\\x00\\x00\\x00\\x00\\x00\\x00\\x00\\x00\\x00\\x00\\x00\\x00\\x00\\x00\\x00\\x00\\x00\\x00\\x00\\x00\\x18\\x13\\x13\\x14\\xdc\\x15\\x15\\x17\\xff\\x15\\x15\\x17\\xff\\x12\\x12\\x12o\\x00\\x00\\x00\\x00\\x00\\x00\\x00\\x00\\x00\\x00\\x00\\x00\\x00\\x00\\x00\\x00\\x00\\x00\\x00\\x00\\x00\\x00\\x00\\x00\\x00\\x00\\x00\\x00\\x00\\x00\\x00\\x00\\x00\\x00\\x00\\x00\\x00\\x00\\x00\\x00\\x00\\x00\\x00\\x00\\x0f\\x0f\\x0f\\x10\\x15\\x15\\x17\\xff\\x15\\x15\\x17\\xff\\x15\\x15\\x17\\xff\\x15\\x15\\x17\\xff\\x15\\x15\\x17\\xff\\x15\\x15\\x17\\xff\\x15\\x15\\x17\\xff\\x13\\x13\\x14\\xdc\\x00\\x00\\x00\\x18\\x00\\x00\\x00\\x00\\x00\\x00\\x00\\x00\\x00\\x00\\x00\\x00\\x00\\x00\\x00\\x00\\x00\\x00\\x00\\x00\\x00\\x00\\x00\\x04\\x13\\x13\\x13\\xc4\\x15\\x15\\x17\\xff\\x15\\x15\\x17\\xff\\x13\\x13\\x14\\xb9\\x00\\x00\\x00\\x00\\x0f\\x0f\\x0f\\x10\\x0f\\x0f\\x0fc\\x12\\x12\\x12z\\x0e\\x0e\\x0eF\\x00\\x00\\x00\\x03\\x00\\x00\\x00\\x00\\x00\\x00\\x00\\x00\\x00\\x00\\x00\\x00\\x00\\x00\\x00\\x00\\x00\\x00\\x00\\x00\\x00\\x00\\x00\\x00\\x0c\\x0c\\x0c\\x15\\x15\\x15\\x17\\xff\\x15\\x15\\x17\\xff\\x15\\x15\\x17\\xff\\x15\\x15\\x17\\xff\\x15\\x15\\x17\\xff\\x15\\x15\\x17\\xff\\x15\\x15\\x17\\xff\\x15\\x15\\x17\\xff\\x13\\x13\\x13\\xc4\\x00\\x00\\x00\\x04\\x00\\x00\\x00\\x00\\x00\\x00\\x00\\x00\\x00\\x00\\x00\\x00\\x00\\x00\\x00\\x00\\x12\\x12\\x12~\\x15\\x15\\x17\\xff\\x15\\x15\\x17\\xff\\x15\\x15\\x17\\xff\\r\\r\\r8\\x0f\\x0f\\x0f!\\x13\\x13\\x13\\xe2\\x15\\x15\\x17\\xff\\x15\\x15\\x17\\xff\\x15\\x15\\x17\\xff\\x11\\x11\\x11<\\x00\\x00\\x00\\x00\\x00\\x00\\x00\\x00\\x00\\x00\\x00\\x00\\x00\\x00\\x00\\x00\\x00\\x00\\x00\\x00\\x00\\x00\\x00\\x00\\x10\\x10\\x10>\\x15\\x15\\x17\\xff\\x15\\x15\\x17\\xff\\x15\\x15\\x17\\xff\\x15\\x15\\x17\\xff\\x15\\x15\\x17\\xff\\x15\\x15\\x17\\xff\\x15\\x15\\x17\\xff\\x15\\x15\\x17\\xff\\x15\\x15\\x17\\xff\\x12\\x12\\x12~\\x00\\x00\\x00\\x00\\x00\\x00\\x00\\x00\\x00\\x00\\x00\\x00\\x11\\x11\\x11\\x1e\\x13\\x13\\x14\\xf7\\x15\\x15\\x17\\xff\\x13\\x13\\x14\\xfe\\x11\\x11\\x13s\\x00\\x00\\x00\\x07\\x13\\x13\\x14\\xc9\\x15\\x15\\x17\\xff\\x15\\x15\\x17\\xff\\x15\\x15\\x17\\xff\\x15\\x15\\x17\\xff\\x13\\x13\\x14\\xae\\x00\\x00\\x00\\x01\\x00\\x00\\x00\\x00\\x00\\x00\\x00\\x00\\x00\\x00\\x00\\x00\\x00\\x00\\x00\\x00\\x00\\x00\\x00\\x01\\x11\\x11\\x14\\xb0\\x15\\x15\\x17\\xff\\x15\\x15\\x17\\xff\\x15\\x15\\x17\\xff\\x15\\x15\\x17\\xff\\x15\\x15\\x17\\xff\\x15\\x15\\x17\\xff\\x15\\x15\\x17\\xff\\x15\\x15\\x17\\xff\\x15\\x15\\x17\\xff\\x13\\x13\\x14\\xf7\\x11\\x11\\x11\\x1e\\x00\\x00\\x00\\x00\\x00\\x00\\x00\\x00\\x12\\x12\\x12\\x97\\x15\\x15\\x17\\xff\\x15\\x15\\x17\\xff\\x12\\x12\\x12\\x8a\\x10\\x10\\x10?\\x11\\x11\\x13\\xc2\\x15\\x15\\x17\\xff\\x15\\x15\\x17\\xff\\x13\\x13\\x14\\xfa\\x13\\x13\\x16\\xaa\\x11\\x11\\x14e\\x0e\\x0e\\x0e4\\x00\\x00\\x00\\x03\\x00\\x00\\x00\\x00\\x00\\x00\\x00\\x00\\x00\\x00\\x00\\x00\\x00\\x00\\x00\\x00\\x00\\x00\\x00\\x04\\r\\r\\x119\\x0e\\x0e\\x13h\\x13\\x13\\x14\\xae\\x13\\x13\\x14\\xfa\\x15\\x15\\x17\\xff\\x15\\x15\\x17\\xff\\x15\\x15\\x17\\xff\\x15\\x15\\x17\\xff\\x15\\x15\\x17\\xff\\x15\\x15\\x17\\xff\\x15\\x15\\x17\\xff\\x12\\x12\\x12\\x97\\x00\\x00\\x00\\x00\\x00\\x00\\x00\\r\\x13\\x13\\x14\\xf5\\x15\\x15\\x17\\xff\\x15\\x15\\x17\\xff\\x15\\x15\\x17\\xff\\x15\\x15\\x17\\xff\\x15\\x15\\x17\\xff\\x15\\x15\\x17\\xff\\x13\\x13\\x14\\xab\\x00\\x00\\x00\\x18\\x00\\x00\\x00\\x00\\x00\\x00\\x00\\x00\\x00\\x00\\x00\\x00\\x00\\x00\\x00\\x00\\x00\\x00\\x00\\x00\\x00\\x00\\x00\\x00\\x00\\x00\\x00\\x00\\x00\\x00\\x00\\x00\\x00\\x00\\x00\\x00\\x00\\x00\\x00\\x00\\x00\\x00\\x00\\x00\\x00\\x00\\x00\\x00\\x00\\x00\\x00\\x19\\x13\\x13\\x14\\xab\\x15\\x15\\x17\\xff\\x15\\x15\\x17\\xff\\x15\\x15\\x17\\xff\\x15\\x15\\x17\\xff\\x15\\x15\\x17\\xff\\x15\\x15\\x17\\xff\\x13\\x13\\x14\\xf5\\x00\\x00\\x00\\r\\x0e\\x0e\\x14Y\\x15\\x15\\x17\\xff\\x15\\x15\\x17\\xff\\x15\\x15\\x17\\xff\\x15\\x15\\x17\\xff\\x15\\x15\\x17\\xff\\x15\\x15\\x17\\xff\\x13\\x13\\x13\\x8f\\x00\\x00\\x00\\x00\\x00\\x00\\x00\\x00\\x00\\x00\\x00\\x00\\x00\\x00\\x00\\x00\\x00\\x00\\x00\\x00\\x00\\x00\\x00\\x00\\x00\\x00\\x00\\x00\\x00\\x00\\x00\\x00\\x00\\x00\\x00\\x00\\x00\\x00\\x00\\x00\\x00\\x00\\x00\\x00\\x00\\x00\\x00\\x00\\x00\\x00\\x00\\x00\\x00\\x00\\x00\\x00\\x00\\x00\\x00\\x00\\x00\\x00\\x00\\x00\\x13\\x13\\x13\\x8f\\x15\\x15\\x17\\xff\\x15\\x15\\x17\\xff\\x15\\x15\\x17\\xff\\x15\\x15\\x17\\xff\\x15\\x15\\x17\\xff\\x15\\x15\\x17\\xff\\x0e\\x0e\\x14Y\\x13\\x13\\x13\\x9d\\x15\\x15\\x17\\xff\\x15\\x15\\x17\\xff\\x15\\x15\\x17\\xff\\x15\\x15\\x17\\xff\\x15\\x15\\x17\\xff\\x11\\x11\\x14\\xd1\\x00\\x00\\x00\\x04\\x00\\x00\\x00\\x00\\x00\\x00\\x00\\x00\\x00\\x00\\x00\\x00\\x00\\x00\\x00\\x00\\x00\\x00\\x00\\x00\\x00\\x00\\x00\\x00\\x00\\x00\\x00\\x00\\x00\\x00\\x00\\x00\\x00\\x00\\x00\\x00\\x00\\x00\\x00\\x00\\x00\\x00\\x00\\x00\\x00\\x00\\x00\\x00\\x00\\x00\\x00\\x00\\x00\\x00\\x00\\x00\\x00\\x00\\x00\\x00\\x00\\x00\\x00\\x00\\x00\\x00\\x00\\x04\\x11\\x11\\x14\\xd1\\x15\\x15\\x17\\xff\\x15\\x15\\x17\\xff\\x15\\x15\\x17\\xff\\x15\\x15\\x17\\xff\\x15\\x15\\x17\\xff\\x13\\x13\\x13\\x9d\\x11\\x11\\x14\\xd0\\x15\\x15\\x17\\xff\\x15\\x15\\x17\\xff\\x15\\x15\\x17\\xff\\x15\\x15\\x17\\xff\\x15\\x15\\x17\\xff\\x12\\x12\\x12^\\x00\\x00\\x00\\x00\\x00\\x00\\x00\\x00\\x00\\x00\\x00\\x00\\x00\\x00\\x00\\x00\\x00\\x00\\x00\\x00\\x00\\x00\\x00\\x00\\x00\\x00\\x00\\x00\\x00\\x00\\x00\\x00\\x00\\x00\\x00\\x00\\x00\\x00\\x00\\x00\\x00\\x00\\x00\\x00\\x00\\x00\\x00\\x00\\x00\\x00\\x00\\x00\\x00\\x00\\x00\\x00\\x00\\x00\\x00\\x00\\x00\\x00\\x00\\x00\\x00\\x00\\x00\\x00\\x00\\x00\\x00\\x00\\x12\\x12\\x12^\\x15\\x15\\x17\\xff\\x15\\x15\\x17\\xff\\x15\\x15\\x17\\xff\\x15\\x15\\x17\\xff\\x15\\x15\\x17\\xff\\x11\\x11\\x14\\xd0\\x12\\x12\\x14\\xf2\\x15\\x15\\x17\\xff\\x15\\x15\\x17\\xff\\x15\\x15\\x17\\xff\\x15\\x15\\x17\\xff\\x15\\x15\\x17\\xff\\x00\\x00\\x00\\x16\\x00\\x00\\x00\\x00\\x00\\x00\\x00\\x00\\x00\\x00\\x00\\x00\\x00\\x00\\x00\\x00\\x00\\x00\\x00\\x00\\x00\\x00\\x00\\x00\\x00\\x00\\x00\\x00\\x00\\x00\\x00\\x00\\x00\\x00\\x00\\x00\\x00\\x00\\x00\\x00\\x00\\x00\\x00\\x00\\x00\\x00\\x00\\x00\\x00\\x00\\x00\\x00\\x00\\x00\\x00\\x00\\x00\\x00\\x00\\x00\\x00\\x00\\x00\\x00\\x00\\x00\\x00\\x00\\x00\\x00\\x00\\x00\\x00\\x00\\x00\\x16\\x15\\x15\\x17\\xff\\x15\\x15\\x17\\xff\\x15\\x15\\x17\\xff\\x15\\x15\\x17\\xff\\x15\\x15\\x17\\xff\\x12\\x12\\x14\\xf2\\x15\\x15\\x17\\xff\\x15\\x15\\x17\\xff\\x15\\x15\\x17\\xff\\x15\\x15\\x17\\xff\\x15\\x15\\x17\\xff\\x12\\x12\\x14\\xf2\\x00\\x00\\x00\\x00\\x00\\x00\\x00\\x00\\x00\\x00\\x00\\x00\\x00\\x00\\x00\\x00\\x00\\x00\\x00\\x00\\x00\\x00\\x00\\x00\\x00\\x00\\x00\\x00\\x00\\x00\\x00\\x00\\x00\\x00\\x00\\x00\\x00\\x00\\x00\\x00\\x00\\x00\\x00\\x00\\x00\\x00\\x00\\x00\\x00\\x00\\x00\\x00\\x00\\x00\\x00\\x00\\x00\\x00\\x00\\x00\\x00\\x00\\x00\\x00\\x00\\x00\\x00\\x00\\x00\\x00\\x00\\x00\\x00\\x00\\x00\\x00\\x00\\x00\\x00\\x00\\x12\\x12\\x14\\xf2\\x15\\x15\\x17\\xff\\x15\\x15\\x17\\xff\\x15\\x15\\x17\\xff\\x15\\x15\\x17\\xff\\x15\\x15\\x17\\xff\\x15\\x15\\x17\\xff\\x15\\x15\\x17\\xff\\x15\\x15\\x17\\xff\\x15\\x15\\x17\\xff\\x15\\x15\\x17\\xff\\x13\\x13\\x14\\xdb\\x00\\x00\\x00\\x00\\x00\\x00\\x00\\x00\\x00\\x00\\x00\\x00\\x00\\x00\\x00\\x00\\x00\\x00\\x00\\x00\\x00\\x00\\x00\\x00\\x00\\x00\\x00\\x00\\x00\\x00\\x00\\x00\\x00\\x00\\x00\\x00\\x00\\x00\\x00\\x00\\x00\\x00\\x00\\x00\\x00\\x00\\x00\\x00\\x00\\x00\\x00\\x00\\x00\\x00\\x00\\x00\\x00\\x00\\x00\\x00\\x00\\x00\\x00\\x00\\x00\\x00\\x00\\x00\\x00\\x00\\x00\\x00\\x00\\x00\\x00\\x00\\x00\\x00\\x00\\x00\\x13\\x13\\x14\\xdc\\x15\\x15\\x17\\xff\\x15\\x15\\x17\\xff\\x15\\x15\\x17\\xff\\x15\\x15\\x17\\xff\\x15\\x15\\x17\\xff\\x13\\x13\\x14\\xf6\\x15\\x15\\x17\\xff\\x15\\x15\\x17\\xff\\x15\\x15\\x17\\xff\\x15\\x15\\x17\\xff\\x14\\x14\\x14\\xe1\\x00\\x00\\x00\\x00\\x00\\x00\\x00\\x00\\x00\\x00\\x00\\x00\\x00\\x00\\x00\\x00\\x00\\x00\\x00\\x00\\x00\\x00\\x00\\x00\\x00\\x00\\x00\\x00\\x00\\x00\\x00\\x00\\x00\\x00\\x00\\x00\\x00\\x00\\x00\\x00\\x00\\x00\\x00\\x00\\x00\\x00\\x00\\x00\\x00\\x00\\x00\\x00\\x00\\x00\\x00\\x00\\x00\\x00\\x00\\x00\\x00\\x00\\x00\\x00\\x00\\x00\\x00\\x00\\x00\\x00\\x00\\x00\\x00\\x00\\x00\\x00\\x00\\x00\\x00\\x00\\x14\\x14\\x14\\xe1\\x15\\x15\\x17\\xff\\x15\\x15\\x17\\xff\\x15\\x15\\x17\\xff\\x15\\x15\\x17\\xff\\x13\\x13\\x14\\xf6\\x13\\x13\\x14\\xd6\\x15\\x15\\x17\\xff\\x15\\x15\\x17\\xff\\x15\\x15\\x17\\xff\\x15\\x15\\x17\\xff\\x13\\x13\\x14\\xfc\\x11\\x11\\x11\\x0f\\x00\\x00\\x00\\x00\\x00\\x00\\x00\\x00\\x00\\x00\\x00\\x00\\x00\\x00\\x00\\x00\\x00\\x00\\x00\\x00\\x00\\x00\\x00\\x00\\x00\\x00\\x00\\x00\\x00\\x00\\x00\\x00\\x00\\x00\\x00\\x00\\x00\\x00\\x00\\x00\\x00\\x00\\x00\\x00\\x00\\x00\\x00\\x00\\x00\\x00\\x00\\x00\\x00\\x00\\x00\\x00\\x00\\x00\\x00\\x00\\x00\\x00\\x00\\x00\\x00\\x00\\x00\\x00\\x00\\x00\\x00\\x00\\x11\\x11\\x11\\x0f\\x13\\x13\\x14\\xfc\\x15\\x15\\x17\\xff\\x15\\x15\\x17\\xff\\x15\\x15\\x17\\xff\\x15\\x15\\x17\\xff\\x13\\x13\\x14\\xd6\\x13\\x13\\x13\\xa9\\x15\\x15\\x17\\xff\\x15\\x15\\x17\\xff\\x15\\x15\\x17\\xff\\x15\\x15\\x17\\xff\\x15\\x15\\x17\\xff\\x0f\\x0f\\x0fb\\x00\\x00\\x00\\x00\\x00\\x00\\x00\\x00\\x00\\x00\\x00\\x00\\x00\\x00\\x00\\x00\\x00\\x00\\x00\\x00\\x00\\x00\\x00\\x00\\x00\\x00\\x00\\x00\\x00\\x00\\x00\\x00\\x00\\x00\\x00\\x00\\x00\\x00\\x00\\x00\\x00\\x00\\x00\\x00\\x00\\x00\\x00\\x00\\x00\\x00\\x00\\x00\\x00\\x00\\x00\\x00\\x00\\x00\\x00\\x00\\x00\\x00\\x00\\x00\\x00\\x00\\x00\\x00\\x00\\x00\\x00\\x00\\x0f\\x0f\\x0fb\\x15\\x15\\x17\\xff\\x15\\x15\\x17\\xff\\x15\\x15\\x17\\xff\\x15\\x15\\x17\\xff\\x15\\x15\\x17\\xff\\x13\\x13\\x13\\xa9\\x0e\\x0e\\x13g\\x15\\x15\\x17\\xff\\x15\\x15\\x17\\xff\\x15\\x15\\x17\\xff\\x15\\x15\\x17\\xff\\x15\\x15\\x17\\xff\\x13\\x13\\x16\\xe3\\x0e\\x0e\\x0e\\x12\\x00\\x00\\x00\\x00\\x00\\x00\\x00\\x00\\x00\\x00\\x00\\x00\\x00\\x00\\x00\\x00\\x00\\x00\\x00\\x00\\x00\\x00\\x00\\x00\\x00\\x00\\x00\\x00\\x00\\x00\\x00\\x00\\x00\\x00\\x00\\x00\\x00\\x00\\x00\\x00\\x00\\x00\\x00\\x00\\x00\\x00\\x00\\x00\\x00\\x00\\x00\\x00\\x00\\x00\\x00\\x00\\x00\\x00\\x00\\x00\\x00\\x00\\x00\\x00\\x0e\\x0e\\x0e\\x12\\x13\\x13\\x13\\xe2\\x15\\x15\\x17\\xff\\x15\\x15\\x17\\xff\\x15\\x15\\x17\\xff\\x15\\x15\\x17\\xff\\x15\\x15\\x17\\xff\\x0e\\x0e\\x13g\\x00\\x00\\x00\\x18\\x13\\x13\\x14\\xfc\\x15\\x15\\x17\\xff\\x15\\x15\\x17\\xff\\x15\\x15\\x17\\xff\\x15\\x15\\x17\\xff\\x15\\x15\\x17\\xff\\x12\\x12\\x12_\\x00\\x00\\x00\\x00\\x00\\x00\\x00\\x00\\x00\\x00\\x00\\x00\\x00\\x00\\x00\\x00\\x00\\x00\\x00\\x00\\x00\\x00\\x00\\x00\\x00\\x00\\x00\\x00\\x00\\x00\\x00\\x00\\x00\\x00\\x00\\x00\\x00\\x00\\x00\\x00\\x00\\x00\\x00\\x00\\x00\\x00\\x00\\x00\\x00\\x00\\x00\\x00\\x00\\x00\\x00\\x00\\x00\\x00\\x00\\x00\\x00\\x00\\x00\\x00\\x12\\x12\\x12_\\x15\\x15\\x17\\xff\\x15\\x15\\x17\\xff\\x15\\x15\\x17\\xff\\x15\\x15\\x17\\xff\\x15\\x15\\x17\\xff\\x13\\x13\\x14\\xfc\\x00\\x00\\x00\\x18\\x00\\x00\\x00\\x00\\x13\\x13\\x14\\xae\\x15\\x15\\x17\\xff\\x15\\x15\\x17\\xff\\x15\\x15\\x17\\xff\\x15\\x15\\x17\\xff\\x15\\x15\\x17\\xff\\x0e\\x0e\\x0e5\\x00\\x00\\x00\\x00\\x00\\x00\\x00\\x00\\x00\\x00\\x00\\x00\\x00\\x00\\x00\\x00\\x00\\x00\\x00\\x00\\x00\\x00\\x00\\x00\\x00\\x00\\x00\\x00\\x00\\x00\\x00\\x00\\x00\\x00\\x00\\x00\\x00\\x00\\x00\\x00\\x00\\x00\\x00\\x00\\x00\\x00\\x00\\x00\\x00\\x00\\x00\\x00\\x00\\x00\\x00\\x00\\x00\\x00\\x00\\x00\\x00\\x00\\x00\\x00\\x0e\\x0e\\x0e5\\x15\\x15\\x17\\xff\\x15\\x15\\x17\\xff\\x15\\x15\\x17\\xff\\x15\\x15\\x17\\xff\\x15\\x15\\x17\\xff\\x13\\x13\\x14\\xae\\x00\\x00\\x00\\x00\\x00\\x00\\x00\\x00\\x0e\\x0e\\x0e4\\x15\\x15\\x17\\xff\\x15\\x15\\x17\\xff\\x15\\x15\\x17\\xff\\x15\\x15\\x17\\xff\\x15\\x15\\x17\\xff\\x0f\\x0f\\x0f2\\x00\\x00\\x00\\x00\\x00\\x00\\x00\\x00\\x00\\x00\\x00\\x00\\x11\\x11\\x11\\x0f\\x0c\\x0c\\x0c(\\x00\\x00\\x00\\x02\\x00\\x00\\x00\\x00\\x00\\x00\\x00\\x00\\x00\\x00\\x00\\x00\\x00\\x00\\x00\\x00\\x00\\x00\\x00\\x02\\x0c\\x0c\\x0c(\\x11\\x11\\x11\\x0f\\x00\\x00\\x00\\x00\\x00\\x00\\x00\\x00\\x00\\x00\\x00\\x00\\x0f\\x0f\\x0f2\\x15\\x15\\x17\\xff\\x15\\x15\\x17\\xff\\x15\\x15\\x17\\xff\\x15\\x15\\x17\\xff\\x15\\x15\\x17\\xff\\x0e\\x0e\\x0e4\\x00\\x00\\x00\\x00\\x00\\x00\\x00\\x00\\x00\\x00\\x00\\x00\\x13\\x13\\x14\\x9e\\x15\\x15\\x17\\xff\\x15\\x15\\x17\\xff\\x15\\x15\\x17\\xff\\x15\\x15\\x17\\xff\\x13\\x13\\x13\\\\\\x00\\x00\\x00\\x00\\x00\\x00\\x00\\x07\\x0f\\x0f\\x0fc\\x13\\x13\\x14\\xe8\\x15\\x15\\x17\\xff\\x13\\x13\\x14\\xf3\\x14\\x14\\x14\\xd2\\x11\\x11\\x13\\xc1\\x11\\x11\\x13\\xc1\\x14\\x14\\x14\\xd2\\x13\\x13\\x14\\xf3\\x15\\x15\\x17\\xff\\x13\\x13\\x14\\xe8\\x0f\\x0f\\x0fc\\x00\\x00\\x00\\x07\\x00\\x00\\x00\\x00\\x13\\x13\\x13\\\\\\x15\\x15\\x17\\xff\\x15\\x15\\x17\\xff\\x15\\x15\\x17\\xff\\x15\\x15\\x17\\xff\\x13\\x13\\x14\\x9e\\x00\\x00\\x00\\x00\\x00\\x00\\x00\\x00\\x00\\x00\\x00\\x00\\x00\\x00\\x00\\x00\\x0f\\x0f\\x0f\\x11\\x13\\x13\\x14\\xdf\\x15\\x15\\x17\\xff\\x15\\x15\\x17\\xff\\x15\\x15\\x17\\xff\\x13\\x13\\x14\\xd6\\x13\\x13\\x14\\xad\\x13\\x13\\x14\\xf1\\x15\\x15\\x17\\xff\\x15\\x15\\x17\\xff\\x15\\x15\\x17\\xff\\x15\\x15\\x17\\xff\\x15\\x15\\x17\\xff\\x15\\x15\\x17\\xff\\x15\\x15\\x17\\xff\\x15\\x15\\x17\\xff\\x15\\x15\\x17\\xff\\x15\\x15\\x17\\xff\\x15\\x15\\x17\\xff\\x15\\x15\\x17\\xff\\x13\\x13\\x14\\xf1\\x13\\x13\\x14\\xad\\x13\\x13\\x14\\xd6\\x15\\x15\\x17\\xff\\x15\\x15\\x17\\xff\\x15\\x15\\x17\\xff\\x13\\x13\\x14\\xdf\\x0f\\x0f\\x0f\\x11\\x00\\x00\\x00\\x00\\x00\\x00\\x00\\x00\\x00\\x00\\x00\\x00\\x00\\x00\\x00\\x00\\x00\\x00\\x00\\x00\\x0f\\x0f\\x0f3\\x13\\x13\\x14\\xf1\\x15\\x15\\x17\\xff\\x15\\x15\\x17\\xff\\x15\\x15\\x17\\xff\\x15\\x15\\x17\\xff\\x15\\x15\\x17\\xff\\x15\\x15\\x17\\xff\\x15\\x15\\x17\\xff\\x15\\x15\\x17\\xff\\x15\\x15\\x17\\xff\\x15\\x15\\x17\\xff\\x15\\x15\\x17\\xff\\x15\\x15\\x17\\xff\\x15\\x15\\x17\\xff\\x15\\x15\\x17\\xff\\x15\\x15\\x17\\xff\\x15\\x15\\x17\\xff\\x15\\x15\\x17\\xff\\x15\\x15\\x17\\xff\\x15\\x15\\x17\\xff\\x15\\x15\\x17\\xff\\x15\\x15\\x17\\xff\\x15\\x15\\x17\\xff\\x13\\x13\\x14\\xf1\\x0f\\x0f\\x0f3\\x00\\x00\\x00\\x00\\x00\\x00\\x00\\x00\\x00\\x00\\x00\\x00\\x00\\x00\\x00\\x00\\x00\\x00\\x00\\x00\\x00\\x00\\x00\\x00\\x00\\x00\\x00\\x00\\x0f\\x0f\\x0fB\\x13\\x13\\x14\\xf1\\x15\\x15\\x17\\xff\\x15\\x15\\x17\\xff\\x15\\x15\\x17\\xff\\x15\\x15\\x17\\xff\\x15\\x15\\x17\\xff\\x15\\x15\\x17\\xff\\x15\\x15\\x17\\xff\\x15\\x15\\x17\\xff\\x15\\x15\\x17\\xff\\x15\\x15\\x17\\xff\\x15\\x15\\x17\\xff\\x15\\x15\\x17\\xff\\x15\\x15\\x17\\xff\\x15\\x15\\x17\\xff\\x15\\x15\\x17\\xff\\x15\\x15\\x17\\xff\\x15\\x15\\x17\\xff\\x15\\x15\\x17\\xff\\x15\\x15\\x17\\xff\\x15\\x15\\x17\\xff\\x13\\x13\\x14\\xf1\\x0f\\x0f\\x0fB\\x00\\x00\\x00\\x00\\x00\\x00\\x00\\x00\\x00\\x00\\x00\\x00\\x00\\x00\\x00\\x00\\x00\\x00\\x00\\x00\\x00\\x00\\x00\\x00\\x00\\x00\\x00\\x00\\x00\\x00\\x00\\x00\\x00\\x00\\x00\\x00\\x0f\\x0f\\x0f1\\x13\\x13\\x14\\xde\\x15\\x15\\x17\\xff\\x15\\x15\\x17\\xff\\x15\\x15\\x17\\xff\\x15\\x15\\x17\\xff\\x15\\x15\\x17\\xff\\x15\\x15\\x17\\xff\\x15\\x15\\x17\\xff\\x15\\x15\\x17\\xff\\x15\\x15\\x17\\xff\\x15\\x15\\x17\\xff\\x15\\x15\\x17\\xff\\x15\\x15\\x17\\xff\\x15\\x15\\x17\\xff\\x15\\x15\\x17\\xff\\x15\\x15\\x17\\xff\\x15\\x15\\x17\\xff\\x15\\x15\\x17\\xff\\x15\\x15\\x17\\xff\\x13\\x13\\x14\\xde\\x0f\\x0f\\x0f1\\x00\\x00\\x00\\x00\\x00\\x00\\x00\\x00\\x00\\x00\\x00\\x00\\x00\\x00\\x00\\x00\\x00\\x00\\x00\\x00\\x00\\x00\\x00\\x00\\x00\\x00\\x00\\x00\\x00\\x00\\x00\\x00\\x00\\x00\\x00\\x00\\x00\\x00\\x00\\x00\\x00\\x00\\x00\\x00\\x11\\x11\\x11\\x0f\\x13\\x13\\x13\\x9b\\x13\\x13\\x14\\xfe\\x15\\x15\\x17\\xff\\x15\\x15\\x17\\xff\\x15\\x15\\x17\\xff\\x15\\x15\\x17\\xff\\x15\\x15\\x17\\xff\\x15\\x15\\x17\\xff\\x15\\x15\\x17\\xff\\x15\\x15\\x17\\xff\\x15\\x15\\x17\\xff\\x15\\x15\\x17\\xff\\x15\\x15\\x17\\xff\\x15\\x15\\x17\\xff\\x15\\x15\\x17\\xff\\x15\\x15\\x17\\xff\\x13\\x13\\x14\\xfe\\x13\\x13\\x13\\x9b\\x11\\x11\\x11\\x0f\\x00\\x00\\x00\\x00\\x00\\x00\\x00\\x00\\x00\\x00\\x00\\x00\\x00\\x00\\x00\\x00\\x00\\x00\\x00\\x00\\x00\\x00\\x00\\x00\\x00\\x00\\x00\\x00\\x00\\x00\\x00\\x00\\x00\\x00\\x00\\x00\\x00\\x00\\x00\\x00\\x00\\x00\\x00\\x00\\x00\\x00\\x00\\x00\\x00\\x00\\x00\\x00\\x00\\x00\\x00\\x00\\x0f\\x0f\\x0f1\\x13\\x13\\x13\\xa9\\x13\\x13\\x14\\xfb\\x15\\x15\\x17\\xff\\x15\\x15\\x17\\xff\\x15\\x15\\x17\\xff\\x15\\x15\\x17\\xff\\x15\\x15\\x17\\xff\\x15\\x15\\x17\\xff\\x15\\x15\\x17\\xff\\x15\\x15\\x17\\xff\\x15\\x15\\x17\\xff\\x15\\x15\\x17\\xff\\x13\\x13\\x14\\xfb\\x13\\x13\\x13\\xa9\\x0f\\x0f\\x0f1\\x00\\x00\\x00\\x00\\x00\\x00\\x00\\x00\\x00\\x00\\x00\\x00\\x00\\x00\\x00\\x00\\x00\\x00\\x00\\x00\\x00\\x00\\x00\\x00\\x00\\x00\\x00\\x00\\x00\\x00\\x00\\x00\\x00\\x00\\x00\\x00\\x00\\x00\\x00\\x00\\x00\\x00\\x00\\x00\\x00\\x00\\x00\\x00\\x00\\x00\\x00\\x00\\x00\\x00\\x00\\x00\\x00\\x00\\x00\\x00\\x00\\x00\\x00\\x00\\x00\\x00\\x00\\x00\\x00\\x00\\x00\\x00\\x0c\\x0c\\x0c\\x14\\x0f\\x0f\\x0fc\\x11\\x11\\x14\\xa4\\x14\\x14\\x14\\xd2\\x13\\x13\\x14\\xf3\\x15\\x15\\x17\\xff\\x15\\x15\\x17\\xff\\x13\\x13\\x14\\xf3\\x14\\x14\\x14\\xd2\\x11\\x11\\x14\\xa4\\x0f\\x0f\\x0fc\\x0c\\x0c\\x0c\\x14\\x00\\x00\\x00\\x00\\x00\\x00\\x00\\x00\\x00\\x00\\x00\\x00\\x00\\x00\\x00\\x00\\x00\\x00\\x00\\x00\\x00\\x00\\x00\\x00\\x00\\x00\\x00\\x00\\x00\\x00\\x00\\x00\\x00\\x00\\x00\\x00\\x00\\x00\\x00\\x00\\x00\\x00\\x00\\x00\\x00\\x00\\x00\\x00\\x00\\x00\\x00\\x00\\x00\\x00\\x00\\x00\\x00\\x00\\x00\\x00\\x00\\x00\\x00\\x00\\x00\\x00\\x00\\x00\\x00\\x00\\x00\\x00\\x00\\x00\\x00\\x00\\x00\\x00\\x00\\x00\\x00\\x00\\x00\\x00\\x00\\x00\\x00\\x00\\x00\\x00\\x00\\x00\\x00\\x00\\x00\\x00\\x00\\x00\\x00\\x00\\x00\\x00\\x00\\x00\\x00\\x00\\x00\\x00\\x00\\x00\\x00\\x00\\x00\\x00\\x00\\x00\\x00\\x00\\x00\\x00\\x00\\x00\\x00\\x00\\x00\\x00\\x00\\x00\\x00\\x00\\x00\\x00\\x00\\x00\\x00\\x00\\x00\\x00\\x00\\x00\\x00\\x00\\x00\\x00\\x00\\x00\\x00\\x00\\x00\\x00\\x00\\x00\\x00\\x00\\x00\\x00\\x00\\x00\\x00\\x00\\x00\\x00\\x00\\x00\\x00\\x00\\x00\\x00\\x00\\x00\\x00\\x00\\x00\\x00\\x00\\x00\\x00\\x00\\x00\\x00\\x00\\x00\\x00\\x00\\x00\\x00\\x00\\x00\\x00\\x00\\x00\\x00\\x00\\x00\\x00\\x00\\x00\\x00\\x00\\x00\\x00\\x00\\x00\\x00\\x00\\x00\\x00\\x00\\x00\\x00\\x00\\x00\\x00\\x00\\x00\\x00\\x00\\x00\\x00\\x00\\x00\\x00\\x00\\x00\\x00\\x00\\x00\\x00\\x00\\x00\\x00\\x00\\x00\\x00\\x00\\x00\\x00\\x00\\x00\\x00\\x00\\x00\\x00\\x00\\x00\\x00\\x00\\x00\\x00\\x00\\x00\\x00\\x00\\x00\\x00\\x00\\x00\\x00\\x00\\x00\\x00\\x00\\x00\\x00\\x00\\x00\\x00\\x00\\x00\\x00\\x00\\x00\\x00\\x00\\x00\\x00\\x00\\x00\\x00\\x00\\x00\\x00\\x00\\x00\\x00\\x00\\x00\\x00\\x00\\x00\\x00\\x00\\x00\\x00\\x00\\x00\\x00\\x00\\x00\\x00\\x00\\x00\\x00\\x00\\x00\\x00\\x00\\x00\\x00\\x00\\x00\\x00\\x00\\x00\\x00\\x00\\x00\\x00\\x00\\x00\\x00\\x00\\x00\\x00\\x00\\x00\\x00\\x00\\x00\\x00\\x00\\x00\\x00\\x00\\x00\\x00\\x00\\x00\\x00\\x00\\x00\\x00\\x00\\x00\\x00\\x00\\x00\\x00\\x00\\x00\\x00\\x00\\x00\\x00\\x00\\x00\\x00\\x00\\x00\\x00\\x00\\x00\\x00\\x00\\x00\\x00\\x00\\x00\\x00\\x00\\x00\\x00\\x00\\x00\\x00\\x00\\x00\\x00\\x00\\x00\\x00\\x00\\x00\\x00\\x00\\x00\\x00\\x00\\x00\\x00\\x00\\x00\\x00\\x00\\x00\\x00\\x00\\x00\\x00\\x00\\x00\\x00\\x00\\x00\\x00\\x00\\x00\\x00\\x00\\x00\\x00\\x00\\x00\\x00\\x00\\x00\\x00\\x00\\x00\\x00\\x00\\x00\\x00\\x00\\x00\\x00\\x00\\x00\\x00\\x00\\x00\\x00\\x00\\x00\\x00\\x00\\x00\\x00\\x00\\x00\\x00\\x00\\x00\\x00\\x00\\x00\\x00\\x00\\x00\\x00\\x00\\x00\\x00\\x00\\x00\\x00\\x00\\x00\\x00\\x00\\x00\\x00\\x00\\x00\\x00\\x00\\x00\\x00\\x00\\x00\\x00\\x00\\x00\\x00\\x00\\x00\\x00\\x00\\x00\\x00\\x00\\x00\\x00\\x00\\x00\\x00\\x00\\x00\\x00\\x00\\x00\\x00\\x00\\x00\\x00\\x00\\x00\\x00\\x00\\x00\\x00\\x00\\x00\\x00\\x00\\x00\\x00\\x00\\x00\\x00\\x00\\x00\\x00\\x00\\x00\\x00\\x00\\x00\\x00\\x00\\x00\\x00\\x00\\x00\\x00\\x00\\x00\\x00\\x00\\x00\\x00\\x00\\x00\\x00\\x00\\x00\\x00\\x00\\x00\\x00\\x00\\x00\\x00\\x00\\x00\\x00\\x00\\x00\\x00\\x00\\x00\\x00\\x00\\x00\\x00\\x00\\x00\\x00\\x00\\x00\\x00\\x00\\x00\\x00\\x00\\x00\\x00\\x00\\x00\\x00\\x00\\x00\\x00\\x00\\x00\\x00\\x00\\x00\\x00\\x00\\x00\\x00\\x00\\x00\\x00\\x00\\x00\\x00\\x00\\x00\\x00\\x00\\x00\\x00\\x00\\x00\\x00\\x00\\x00\\x00\\x00\\x00\\x00\\x00\\x00\\x00\\x00\\x00\\x00\\x00\\x00\\x00\\x00\\x00\\x00\\x00\\x00\\x00\\x00\\x00\\x00\\x00\\x00\\x00\\x00\\x00\\x00\\x00\\x00\\x00\\x00\\x00\\x00\\x00\\x00\\x00\\x00\\x00\\x00\\x00\\x00\\x00\\x00\\x00\\x00\\x00\\x00\\x00\\x00\\x00\\x00\\x00\\x00\\x00\\x00\\x00\\x00\\x00\\x00\\x00\\x00\\x00\\x00\\x00\\x00\\x00\\x00\\x00\\x00\\x00\\x00\\x00\\x00\\x00\\x00\\x00\\x00\\x00\\x00\\x00\\x00\\x00\\x00\\x00\\x00\\x00\\x00\\x00\\x00\\x00\\x00\\x00\\x00\\x00\\x00\\x00\\x00\\x00\\x00\\x00\\x00\\x00\\x00\\x00\\x00\\x00\\x00\\x00\\x00\\x00\\x00\\x00\\x00\\x00\\x00\\x00\\x00\\x00\\x00\\x00\\x00\\x00\\x00\\x00\\x00\\x00\\x00\\x00\\x00\\x00\\x00\\x00\\x00\\x00\\x00\\x00\\x00\\x00\\x00\\x00\\x00\\x00\\x00\\x00\\x00\\x00\\x00\\x00\\x00\\x00\\x00\\x00\\x00\\x00\\x00\\x00\\x00\\x00\\x00\\x00\\x00\\x00\\x00\\x00\\x00\\x00\\x00\\x00\\x00\\x00\\x00\\x00\\x00\\x00\\x00\\x00\\x00\\x00\\x00\\x00\\x00\\x00\\x00\\x00\\x00\\x00\\x00\\x00\\x00\\x00\\x00\\x00\\x00\\x00\\x00\\x00\\x00\\x00\\x00\\x00\\x00\\x00\\x00\\x00\\x00\\x00\\x00\\x00\\x00\\x00\\x00\\x00\\x00\\x00\\x00\\x00\\x00\\x00\\x00\\x00\\x00\\x00\\x00\\x00\\x00\\x00\\x00\\x00\\x00\\x00\\x00\\x00\\x00\\x00\\x00\\x00\\x00\\x00\\x00\\x00\\x00\\x00\\x00\\x00\\x00\\x00\\x00\\x00\\x00\\x00\\x00\\x00\\x00\\x00\\x00\\x00\\x00\\x00\\x00\\x00\\x00\\x00\\x00\\x00\\x00\\x00\\x00\\x00\\x00\\x00\\x00\\x00\\x00\\x00\\x00\\x00\\x00\\x00\\x00\\x00\\x00\\x00\\x00\\x00\\x00\\x00\\x00\\x00\\x00\\x00\\x00\\x00\\x00\\x00\\x00\\x00\\x00\\x00\\x00\\x00\\x00\\x00\\x00\\x00\\x00\\x00\\x00\\x00\\x00\\x00\\x00\\x00\\x00\\x00\\x00\\x00\\x00\\x00\\x00\\x00\\x00\\x00\\x00\\x00\\x00\\x00\\x00\\x00\\x00\\x00\\x00\\x00\\x00\\x00\\x00\\x00\\x00\\x00\\x00\\x00\\x00\\x00\\x00\\x00\\x00\\x00\\x00\\x00\\x00\\x00\\x00\\x00\\x00\\x00\\x00\\x00\\x00\\x00\\x00\\x00\\x00\\x00\\x00\\x00\\x00\\x00\\x00\\x00\\x00\\x00\\x00\\x00\\x00\\x00\\x00\\x00\\x00\\x00\\x00\\x00\\x00\\x00\\x00\\x00\\x00\\x00\\x00\\x00\\x00\\x00\\x00\\x00\\x00\\x00\\x00\\x00\\x00\\x00\\x00\\x00\\x00\\x00\\x00\\x00\\x00\\x00\\x00\\x00\\x00\\x00\\x00\\x00\\x00\\x00\\x00\\x00\\x00\\x00\\x00\\x00\\x00\\x00\\x00\\x00\\x00\\x00\\x00\\x00\\x00\\x00\\x00\\x00\\x00\\x00\\x00\\x00\\x00\\x00\\x00\\x00\\x00\\x00\\x00\\x00\\x00\\x00\\x00\\x00\\x00\\x00\\x00\\x00\\x00\\x00\\x00\\x00\\x00\\x00\\x00\\x00\\x00\\x00\\x00\\x00'\n"
     ]
    }
   ],
   "source": [
    "import requests\n",
    "\n",
    "r = requests.get(\"https://github.com/favicon.ico\")\n",
    "print(r.text)\n",
    "print(r.content)"
   ]
  },
  {
   "cell_type": "code",
   "execution_count": 62,
   "metadata": {
    "collapsed": true
   },
   "outputs": [],
   "source": [
    "import requests\n",
    "\n",
    "r = requests.get(\"https://github.com/favicon.ico\")\n",
    "with open('favicon.ico', 'wb') as f:\n",
    "    f.write(r.content)\n",
    "    f.close()"
   ]
  },
  {
   "cell_type": "code",
   "execution_count": 64,
   "metadata": {
    "collapsed": false
   },
   "outputs": [
    {
     "name": "stdout",
     "output_type": "stream",
     "text": [
      "{\n",
      "  \"args\": {}, \n",
      "  \"data\": \"\", \n",
      "  \"files\": {}, \n",
      "  \"form\": {\n",
      "    \"age\": \"22\", \n",
      "    \"name\": \"germey\"\n",
      "  }, \n",
      "  \"headers\": {\n",
      "    \"Accept\": \"*/*\", \n",
      "    \"Accept-Encoding\": \"gzip, deflate\", \n",
      "    \"Connection\": \"close\", \n",
      "    \"Content-Length\": \"18\", \n",
      "    \"Content-Type\": \"application/x-www-form-urlencoded\", \n",
      "    \"Host\": \"httpbin.org\", \n",
      "    \"User-Agent\": \"Mozilla/5.0 (Macintosh; Intel Mac OS X 10_11_4) AppleWebKit/537.36 (KHTML, like Gecko) Chrome/52.0.2743.116 Safari/537.36\"\n",
      "  }, \n",
      "  \"json\": null, \n",
      "  \"origin\": \"120.236.174.143\", \n",
      "  \"url\": \"http://httpbin.org/post\"\n",
      "}\n",
      "\n"
     ]
    }
   ],
   "source": [
    "import requests\n",
    "\n",
    "data = {'name': 'germey', 'age': '22'}\n",
    "headers = {\n",
    "    'User-Agent': 'Mozilla/5.0 (Macintosh; Intel Mac OS X 10_11_4) AppleWebKit/537.36 (KHTML, like Gecko) Chrome/52.0.2743.116 Safari/537.36'\n",
    "}\n",
    "r = requests.post(\"http://httpbin.org/post\", data=data, headers=headers)\n",
    "print(r.text)"
   ]
  },
  {
   "cell_type": "markdown",
   "metadata": {},
   "source": [
    "- requests的post的响应"
   ]
  },
  {
   "cell_type": "code",
   "execution_count": 65,
   "metadata": {
    "collapsed": false
   },
   "outputs": [
    {
     "name": "stdout",
     "output_type": "stream",
     "text": [
      "<class 'int'> 200\n",
      "<class 'requests.structures.CaseInsensitiveDict'> {'Date': 'Wed, 10 May 2017 04:59:35 GMT', 'Connection': 'keep-alive', 'Transfer-Encoding': 'chunked', 'ETag': 'W/\"623701344a3badf0f74957912c193b7d\"', 'Set-Cookie': '_session_id=YTFvMjRMZ2pyeXpmY2FUdWRCWGJ2NVpEZmZXaVBxdzZkRVE1ZU1KTWlNck9IL2Rlc3NDcmNIRzAyaTRnaGN1OTEyS0U1K3RpU2hvbzhsbXl6YXZOVjQxbWNkRVpNUE54MkRSVGp6b0ZBRkRURXhJUmxnTDBpVFVZUXRaZlcrbTMyOVpLWWh5R3gwdkxOT2VzZHRlOVlwZ2FBOW9GZ2pyYzRscWRjT29VMHRnbFFsSFBvMUJFN1FtMGFKalB3TThZSXdROGdwdE9IN0tBa0U2OENkbjRUN3BQdkFGYzgxSFArNXNvMER2NmtwMm0veTFTMlo4amhVbWVyMSsybHcwRS0tWkpwRjJ6WmVPQ292WjU0M2lnREprQT09--df3a1f82dba59d4b56f4ae1053a948c45cb6ea3f; path=/; HttpOnly', 'Cache-Control': 'max-age=0, private, must-revalidate', 'X-Content-Type-Options': 'nosniff', 'X-Frame-Options': 'DENY', 'Server': 'Tengine', 'X-Via': '1.1 jianyidong20:3 (Cdn Cache Server V2.0)', 'X-XSS-Protection': '1; mode=block', 'Content-Encoding': 'gzip', 'X-Request-Id': '0a5a7ee3-a632-4c70-aff2-ceda3eba408f', 'X-Runtime': '0.007516', 'Content-Type': 'text/html; charset=utf-8'}\n",
      "<class 'requests.cookies.RequestsCookieJar'> <RequestsCookieJar[<Cookie _session_id=YTFvMjRMZ2pyeXpmY2FUdWRCWGJ2NVpEZmZXaVBxdzZkRVE1ZU1KTWlNck9IL2Rlc3NDcmNIRzAyaTRnaGN1OTEyS0U1K3RpU2hvbzhsbXl6YXZOVjQxbWNkRVpNUE54MkRSVGp6b0ZBRkRURXhJUmxnTDBpVFVZUXRaZlcrbTMyOVpLWWh5R3gwdkxOT2VzZHRlOVlwZ2FBOW9GZ2pyYzRscWRjT29VMHRnbFFsSFBvMUJFN1FtMGFKalB3TThZSXdROGdwdE9IN0tBa0U2OENkbjRUN3BQdkFGYzgxSFArNXNvMER2NmtwMm0veTFTMlo4amhVbWVyMSsybHcwRS0tWkpwRjJ6WmVPQ292WjU0M2lnREprQT09--df3a1f82dba59d4b56f4ae1053a948c45cb6ea3f for www.jianshu.com/>]>\n",
      "<class 'str'> http://www.jianshu.com/\n",
      "<class 'list'> []\n"
     ]
    }
   ],
   "source": [
    "import requests\n",
    "\n",
    "r = requests.get('http://www.jianshu.com')\n",
    "print(type(r.status_code), r.status_code)\n",
    "print(type(r.headers), r.headers)\n",
    "print(type(r.cookies), r.cookies)\n",
    "print(type(r.url), r.url)\n",
    "print(type(r.history), r.history)"
   ]
  },
  {
   "cell_type": "markdown",
   "metadata": {},
   "source": [
    "- requests文件上传"
   ]
  },
  {
   "cell_type": "code",
   "execution_count": 66,
   "metadata": {
    "collapsed": false
   },
   "outputs": [
    {
     "name": "stdout",
     "output_type": "stream",
     "text": [
      "{\n",
      "  \"args\": {}, \n",
      "  \"data\": \"\", \n",
      "  \"files\": {\n",
      "    \"file\": \"data:application/octet-stream;base64,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\"\n",
      "  }, \n",
      "  \"form\": {}, \n",
      "  \"headers\": {\n",
      "    \"Accept\": \"*/*\", \n",
      "    \"Accept-Encoding\": \"gzip, deflate\", \n",
      "    \"Connection\": \"close\", \n",
      "    \"Content-Length\": \"6665\", \n",
      "    \"Content-Type\": \"multipart/form-data; boundary=686350cfb7094df5874d670c61551d3a\", \n",
      "    \"Host\": \"httpbin.org\", \n",
      "    \"User-Agent\": \"python-requests/2.9.1\"\n",
      "  }, \n",
      "  \"json\": null, \n",
      "  \"origin\": \"120.236.174.143\", \n",
      "  \"url\": \"http://httpbin.org/post\"\n",
      "}\n",
      "\n"
     ]
    }
   ],
   "source": [
    "import requests\n",
    "\n",
    "files = {'file': open('favicon.ico', 'rb')}\n",
    "r = requests.post(\"http://httpbin.org/post\", files=files)\n",
    "print(r.text)"
   ]
  },
  {
   "cell_type": "markdown",
   "metadata": {},
   "source": [
    "- requests的cookie处理"
   ]
  },
  {
   "cell_type": "code",
   "execution_count": 67,
   "metadata": {
    "collapsed": false
   },
   "outputs": [
    {
     "name": "stdout",
     "output_type": "stream",
     "text": [
      "<RequestsCookieJar[<Cookie BDORZ=27315 for .baidu.com/>, <Cookie __bsi=1814891151942961897_00_23_N_N_1_0303_C02F_N_N_N_0 for .www.baidu.com/>]>\n",
      "BDORZ=27315\n",
      "__bsi=1814891151942961897_00_23_N_N_1_0303_C02F_N_N_N_0\n"
     ]
    }
   ],
   "source": [
    "import requests\n",
    "\n",
    "r = requests.get(\"https://www.baidu.com\")\n",
    "print(r.cookies)\n",
    "for key, value in r.cookies.items():\n",
    "    print(key + '=' + value)"
   ]
  },
  {
   "cell_type": "code",
   "execution_count": 77,
   "metadata": {
    "collapsed": false
   },
   "outputs": [
    {
     "name": "stdout",
     "output_type": "stream",
     "text": [
      "<!DOCTYPE html>\n",
      "<html lang=\"zh-CN\" class=\"\">\n",
      "<head>\n",
      "<meta charset=\"utf-8\">\n",
      "<meta http-equiv=\"X-UA-Compatible\" content=\"IE=edge,chrome=1\" />\n",
      "<meta name=\"renderer\" content=\"webkit\" />\n",
      "<meta name=\"description\" content=\"一个真实的网络问答社区，帮助你寻找答案，分享知识。\"/>\n",
      "<meta name=\"viewport\" content=\"user-scalable=no, width=device-width, initial-scale=1.0, maximum-scale=1.0\"/>\n",
      "<title>知乎 - 与世界分享你的知识、经验和见解</title>\n",
      "\n",
      "\n",
      "\n",
      "<link rel=\"apple-touch-icon\" href=\"https://static.zhihu.com/static/revved/img/ios/touch-icon-152.87c020b9.png\" sizes=\"152x152\">\n",
      "<link rel=\"apple-touch-icon\" href=\"https://static.zhihu.com/static/revved/img/ios/touch-icon-120.496c913b.png\" sizes=\"120x120\">\n",
      "<link rel=\"apple-touch-icon\" href=\"https://static.zhihu.com/static/revved/img/ios/touch-icon-76.dcf79352.png\" sizes=\"76x76\">\n",
      "<link rel=\"apple-touch-icon\" href=\"https://static.zhihu.com/static/revved/img/ios/touch-icon-60.9911cffb.png\" sizes=\"60x60\">\n",
      "\n",
      "<link rel=\"shortcut icon\" href=\"https://static.zhihu.com/static/favicon.ico\" type=\"image/x-icon\" />\n",
      "<link rel=\"dns-prefetch\" href=\"p1.zhimg.com\"/>\n",
      "<link rel=\"dns-prefetch\" href=\"p2.zhimg.com\"/>\n",
      "<link rel=\"dns-prefetch\" href=\"p3.zhimg.com\"/>\n",
      "<link rel=\"dns-prefetch\" href=\"p4.zhimg.com\"/>\n",
      "<link rel=\"dns-prefetch\" href=\"comet.zhihu.com\"/>\n",
      "<link rel=\"dns-prefetch\" href=\"static.zhihu.com\"/>\n",
      "<link rel=\"dns-prefetch\" href=\"upload.zhihu.com\"/>\n",
      "<link rel=\"stylesheet\" href=\"https://static.zhihu.com/static/revved/-/css/pages/unlogin-index/main.db431217.css\">\n",
      "<meta name=\"google-site-verification\" content=\"FTeR0c8arOPKh8c5DYh_9uu98_zJbaWw53J-Sch9MTg\" />\n",
      "<meta name=\"baidu-site-verification\" content=\"KPFppAFoYF4Kkdv9\" />\n",
      "<meta property=\"qc:admins\" content=\"00544670776201056375\" />\n",
      "<link rel=\"canonical\" href=\"http://www.zhihu.com\" />\n",
      "<meta id=\"znonce\" name=\"znonce\" content=\"11514945008e4e8da9e89c5c2749261e\">\n",
      "<!--[if lt IE 9]>\n",
      "<script src=\"https://static.zhihu.com/static/components/respond/dest/respond.min.js\"></script>\n",
      "<link href=\"https://static.zhihu.com/static/components/respond/cross-domain/respond-proxy.html\" id=\"respond-proxy\" rel=\"respond-proxy\" />\n",
      "<link href=\"/static/components/respond/cross-domain/respond.proxy.gif\" id=\"respond-redirect\" rel=\"respond-redirect\" />\n",
      "<script src=\"/static/components/respond/cross-domain/respond.proxy.js\"></script>\n",
      "<![endif]-->\n",
      "<script src=\"https://static.zhihu.com/static/revved/-/js/instant.14757a4a.js\"></script>\n",
      "</head>\n",
      "<body class=\"zhi \">\n",
      "\n",
      "\n",
      "\n",
      "\n",
      "<div class=\"index-main\">\n",
      "<div class=\"index-main-body\">\n",
      "<div class=\"index-header\">\n",
      "\n",
      "<h1 class=\"logo hide-text\">知乎</h1>\n",
      "\n",
      "<h2 class=\"subtitle\">与世界分享你的知识、经验和见解</h2>\n",
      "</div>\n",
      "\n",
      "<div class=\"desk-front sign-flow clearfix sign-flow-simple\">\n",
      "\n",
      "<div class=\"index-tab-navs\">\n",
      "<div class=\"navs-slider\">\n",
      "<a href=\"#signup\" class=\"active\">注册</a>\n",
      "<a href=\"#signin\">登录</a>\n",
      "<span class=\"navs-slider-bar\"></span>\n",
      "</div>\n",
      "</div>\n",
      "\n",
      "\n",
      "<div class=\"view view-signin\" data-za-module=\"SignInForm\">\n",
      "<form method=\"POST\">\n",
      "<input type=\"hidden\" name=\"_xsrf\" value=\"86d540fd46dbeb1dd7fb041b856e691d\"/>\n",
      "<div class=\"group-inputs\">\n",
      "\n",
      "<div class=\"account input-wrapper\">\n",
      "\n",
      "<input type=\"text\" name=\"account\" aria-label=\"手机号或邮箱\" placeholder=\"手机号或邮箱\" required>\n",
      "</div>\n",
      "<div class=\"verification input-wrapper\">\n",
      "<input type=\"password\" name=\"password\" aria-label=\"密码\" placeholder=\"密码\" required /><button type=\"button\" class=\"send-code-button\">获取验证码</button>\n",
      "</div>\n",
      "\n",
      "<div class=\"Captcha input-wrapper\" data-type=\"cn\" data-za-module=\"Captcha\">\n",
      "<div class=\"Captcha-operate\">\n",
      "<input type=\"hidden\" name=\"captcha\" required data-rule-required=\"true\" data-msg-required=\"请点击图中所有倒立的文字\">\n",
      "<input type=\"hidden\" name=\"captcha_type\" value=\"cn\" required>\n",
      "<label class=\"Captcha-prompt\">请点击图中所有倒立的文字</label>\n",
      "<span class=\"Captcha-refresh js-refreshCaptcha sprite-index-icon-refresh\"></span>\n",
      "</div>\n",
      "<div class=\"Captcha-imageConatiner\">\n",
      "<img class=\"Captcha-image\" alt=\"验证码\" >\n",
      "</div>\n",
      "</div>\n",
      "\n",
      "</div>\n",
      "<div class=\"button-wrapper command\">\n",
      "<button class=\"sign-button submit\" type=\"submit\">登录</button>\n",
      "</div>\n",
      "<div class=\"signin-misc-wrapper clearfix\">\n",
      "\n",
      "<button type=\"button\" class=\"signin-switch-button\">手机验证码登录</button>\n",
      "\n",
      "<a class=\"unable-login\" href=\"#\">无法登录？</a>\n",
      "</div>\n",
      "\n",
      "<div class=\"social-signup-wrapper\" data-za-module=\"SNSSignIn\">\n",
      "<span class=\"name js-toggle-sns-buttons\">社交帐号登录</span>\n",
      "\n",
      "<div class=\"sns-buttons\">\n",
      "<a title=\"微信登录\" class=\"js-bindwechat\" href=\"#\"><i class=\"sprite-index-icon-wechat\"></i></a>\n",
      "<a title=\"微博登录\" class=\"js-bindweibo\" href=\"#\"><i class=\"sprite-index-icon-weibo\"></i></a>\n",
      "<a title=\"QQ 登录\" class=\"js-bindqq\" href=\"#\"><i class=\"sprite-index-icon-qq\"></i></a>\n",
      "</div>\n",
      "\n",
      "\n",
      "</div>\n",
      "\n",
      "</form>\n",
      "\n",
      "<div class=\"QRCode\">\n",
      "<button class=\"QRCode-toggleButton\">\n",
      "<span class=\"sprite-global-icon-qrcode\"></span>\n",
      "<span class=\"QRCode-toggleButtonText \">下载知乎 App</span>\n",
      "</button>\n",
      "<div class=\"QRCode-card\">\n",
      "<div class=\"QRCode-image\"></div>\n",
      "<div class=\"sprite-index-icon-arrow\"></div>\n",
      "</div>\n",
      "</div>\n",
      "\n",
      "\n",
      "</div>\n",
      "<div class=\"view view-signup selected\" data-za-module=\"SignUpForm\">\n",
      "<form class=\"zu-side-login-box\" action=\"/register/email\" id=\"sign-form-1\" autocomplete=\"off\" method=\"POST\">\n",
      "<input type=\"password\" hidden> \n",
      "<input type=\"hidden\" name=\"_xsrf\" value=\"86d540fd46dbeb1dd7fb041b856e691d\"/>\n",
      "<div class=\"group-inputs\">\n",
      "\n",
      "\n",
      "<div class=\"name input-wrapper\">\n",
      "<input required type=\"text\" name=\"fullname\" aria-label=\"姓名\" placeholder=\"姓名\">\n",
      "</div>\n",
      "<div class=\"email input-wrapper\">\n",
      "\n",
      "<input required type=\"text\" class=\"account\" name=\"phone_num\" aria-label=\"手机号\" placeholder=\"手机号\">\n",
      "\n",
      "</div>\n",
      "\n",
      "<div class=\"input-wrapper\">\n",
      "<input required type=\"password\" name=\"password\" aria-label=\"密码\" placeholder=\"密码（不少于 6 位）\" autocomplete=\"off\">\n",
      "</div>\n",
      "\n",
      "<div class=\"Captcha input-wrapper\" data-type=\"cn\" data-za-module=\"Captcha\">\n",
      "<div class=\"Captcha-operate\">\n",
      "<input type=\"hidden\" name=\"captcha\" required data-rule-required=\"true\" data-msg-required=\"请点击图中所有倒立的文字\">\n",
      "<input type=\"hidden\" name=\"captcha_type\" value=\"cn\" required>\n",
      "<label class=\"Captcha-prompt\">请点击图中所有倒立的文字</label>\n",
      "<span class=\"Captcha-refresh js-refreshCaptcha sprite-index-icon-refresh\"></span>\n",
      "</div>\n",
      "<div class=\"Captcha-imageConatiner\">\n",
      "<img class=\"Captcha-image\" alt=\"验证码\" >\n",
      "</div>\n",
      "</div>\n",
      "\n",
      "</div>\n",
      "<div class=\"button-wrapper command\">\n",
      "<button class=\"sign-button submit\" type=\"submit\">注册知乎</button>\n",
      "</div>\n",
      "</form>\n",
      "\n",
      "<p class=\"agreement-tip\">点击「注册」按钮，即代表你同意<a href=\"/terms\" target=\"_blank\">《知乎协议》</a></p>\n",
      "\n",
      "<div class=\"QRCode\">\n",
      "<button class=\"QRCode-toggleButton\">\n",
      "<span class=\"sprite-global-icon-qrcode\"></span>\n",
      "<span class=\"QRCode-toggleButtonText \">下载知乎 App</span>\n",
      "</button>\n",
      "<div class=\"QRCode-card\">\n",
      "<div class=\"QRCode-image\"></div>\n",
      "<div class=\"sprite-index-icon-arrow\"></div>\n",
      "</div>\n",
      "</div>\n",
      "\n",
      "\n",
      "\n",
      "</div>\n",
      "</div>\n",
      "</div>\n",
      "\n",
      "</div>\n",
      "<div class=\"footer\">\n",
      "\n",
      "<span>&copy; 2017 知乎</span>\n",
      "<span class=\"dot\">·</span>\n",
      "<a target=\"_blank\" href=\"/roundtable\">知乎圆桌</a>\n",
      "<span class=\"dot\">·</span>\n",
      "<a target=\"_blank\" href=\"/explore\" data-za-c=\"explore\" data-za-a=\"visit_explore\" data-za-l=\"home_bottom_explore\">发现</a>\n",
      "<span class=\"dot\">·</span>\n",
      "<a target=\"_blank\" href=\"/app\">移动应用</a>\n",
      "<span class=\"dot\">·</span>\n",
      "\n",
      "\n",
      "<a href=\"/org/signin\" class=\"footer-mobile-show\">使用机构帐号登录</a>\n",
      "\n",
      "<span class=\"dot footer-mobile-show\">·</span>\n",
      "\n",
      "<a href=\"/contact\" class=\"footer-mobile-show\">联系我们</a>\n",
      "<span class=\"dot\">·</span>\n",
      "<a target=\"_blank\" href=\"/careers\">来知乎工作</a>\n",
      "<br />\n",
      "<a href=\"http://www.miibeian.gov.cn/\" target=\"_blank\">京 ICP 证 110745 号</a>\n",
      "<span class=\"dot\">·</span>\n",
      "<span>京公网安备 11010802010035 号</span>\n",
      "<span class=\"dot\">·</span>\n",
      "<a href=\"http://zhstatic.zhihu.com/assets/zhihu/publish-license.jpg\" target=\"_blank\">出版物经营许可证</a>\n",
      "\n",
      "</div>\n",
      "\n",
      "\n",
      "\n",
      "<script type=\"text/json\" class=\"json-inline\" data-name=\"disabled_components\">[\"back_to_top\"]</script>\n",
      "<script type=\"text/json\" class=\"json-inline\" data-name=\"current_user\">[\"\",\"\",\"\",\"-1\",\"\",0,0]</script>\n",
      "<script type=\"text/json\" class=\"json-inline\" data-name=\"env\">[\"zhihu.com\",\"comet.zhihu.com\",false,null,false,false]</script>\n",
      "\n",
      "<script type=\"text/json\" class=\"json-inline\" data-name=\"ga_vars\">{\"user_created\":0,\"now\":1494393094000,\"abtest_mask\":\"------------------------------\",\"user_attr\":[0,0,0,\"-\",\"-\"],\"user_hash\":0}</script>\n",
      "\n",
      "<script src=\"https://static.zhihu.com/static/revved/-/js/vendor.cb14a042.js\"></script>\n",
      "<script src=\"https://static.zhihu.com/static/revved/-/js/closure/base.4ed4c84b.js\"></script>\n",
      "\n",
      "<script src=\"https://static.zhihu.com/static/revved/-/js/closure/common.bee7f424.js\"></script>\n",
      "<script src=\"https://static.zhihu.com/static/revved/-/js/closure/page-index.0c71b411.js\"></script>\n",
      "<meta name=\"entry\" content=\"ZH.entrySignPage\" data-module-id=\"page-index\">\n",
      "\n",
      "\n",
      "<input type=\"hidden\" name=\"_xsrf\" value=\"86d540fd46dbeb1dd7fb041b856e691d\"/>\n",
      "</body>\n",
      "</html>\n"
     ]
    }
   ],
   "source": [
    "import requests\n",
    "\n",
    "headers = {\n",
    "    'Cookie': 'q_c1=6a939ad4208e4978a11dd6c405be2d94|1493955688000|1490864656000; r_cap_id=\"NDE5MGZjOWJmNWMxNGU0NzhmMjEyOWIxZDYyYzM1NzU=|1493487069|a08db0edf678dc66a04f317a5111c5086a3cad03\"; cap_id=\"NDIwMDUzY2EwMDE5NDFmNTllYjVlM2M3NWY2MDFkNzI=|1493487069|e5c33041a487f832fc555766d56221b51a442d67\"; __utma=155987696.1717155654.1490930864.1490930864.1490930864.1; __utmz=155987696.1490930864.1.1.utmcsr=google|utmccn=(organic)|utmcmd=organic|utmctr=(not%20provided); _zap=fcc5c4a6-8f1c-4eaa-be04-5b79a87d0308; d_c0=\"AFBCitVljwuPTpKWXjiKInj33-DAqGaCEak=|1491381823\"; z_c0=Mi4wQUFEQUlpWWZBQUFBVUVLSzFXV1BDeGNBQUFCaEFsVk5XRnNzV1FENGFfMG9OQmdabm5ZM25fcTB4Ym0wRWFxSXFn|1494392604|cc5026d6aff0d22baed289a71f47562c1c5c382b; _xsrf=35a188b80dd581852e93f37fd782fd27; aliyungf_tc=AQAAAHmf3z0zugwAj67seCEhFN3Zo6/G; acw_tc=AQAAAOxgrB/LwwwAj67seBHUOyuhiYgK', \n",
    "    'Host': 'www.zhihu.com',\n",
    "    'User-Agent': 'Mozilla/5.0 (X11; Ubuntu; Linux x86_64; rv:53.0) Gecko/20100101 Firefox/53.0',\n",
    "}\n",
    "r = requests.get(\"http://www.zhihu.com\", headers=headers)\n",
    "print(r.text)"
   ]
  },
  {
   "cell_type": "markdown",
   "metadata": {},
   "source": [
    "- 目前这种方法不能登录知乎"
   ]
  },
  {
   "cell_type": "markdown",
   "metadata": {},
   "source": [
    "- 设想这样一个场景，你第一个请求利用了requests.post()方法登录了某个网站，第二次想获取成功登录后的自己的个人信息，你又用了一次requests.get()方法。实际上，这相当于打开了两个浏览器，是两个完全不相关的会话，两个不同的session\n",
    "- 解决方案：\n",
    "    - 每次都使用cookie\n",
    "    - 使用session维持会话"
   ]
  },
  {
   "cell_type": "code",
   "execution_count": 100,
   "metadata": {
    "collapsed": false
   },
   "outputs": [
    {
     "name": "stdout",
     "output_type": "stream",
     "text": [
      "{\n",
      "  \"cookies\": {\n",
      "    \"number\": \"123456789\"\n",
      "  }\n",
      "}\n",
      "\n"
     ]
    }
   ],
   "source": [
    "import requests\n",
    "\n",
    "s = requests.Session()\n",
    "s.get('http://httpbin.org/cookies/set/number/123456789')\n",
    "r = s.get('http://httpbin.org/cookies')\n",
    "print(r.text)"
   ]
  },
  {
   "cell_type": "markdown",
   "metadata": {},
   "source": [
    "- 以上，在实例中我们请求了一个测试网址，http://httpbin.org/cookies/set/number/123456789 请求这个网址我们可以设置一Cookie，名称叫做number，内容是123456789，后面的网址 http://httpbin.org/cookies可以获取当前的Cookie 。"
   ]
  },
  {
   "cell_type": "markdown",
   "metadata": {},
   "source": [
    "- 以下，requests可以用于ssl证书验证，默认true（验证）"
   ]
  },
  {
   "cell_type": "code",
   "execution_count": 88,
   "metadata": {
    "collapsed": false
   },
   "outputs": [
    {
     "name": "stdout",
     "output_type": "stream",
     "text": [
      "200\n"
     ]
    },
    {
     "name": "stderr",
     "output_type": "stream",
     "text": [
      "/usr/lib/python3/dist-packages/urllib3/connectionpool.py:794: InsecureRequestWarning: Unverified HTTPS request is being made. Adding certificate verification is strongly advised. See: https://urllib3.readthedocs.org/en/latest/security.html\n",
      "  InsecureRequestWarning)\n"
     ]
    }
   ],
   "source": [
    "import requests\n",
    "\n",
    "response = requests.get('https://www.12306.cn', verify=False)\n",
    "print(response.status_code)"
   ]
  },
  {
   "cell_type": "markdown",
   "metadata": {},
   "source": [
    "- requests的代理"
   ]
  },
  {
   "cell_type": "code",
   "execution_count": 107,
   "metadata": {
    "collapsed": false
   },
   "outputs": [
    {
     "name": "stdout",
     "output_type": "stream",
     "text": [
      "200\n"
     ]
    }
   ],
   "source": [
    "import requests\n",
    "\n",
    "proxies = {\n",
    "    'http': 'http://61.191.41.130:80',\n",
    "    'https': 'https://220.167.220.14:808'\n",
    "}\n",
    "\n",
    "req = requests.get(\"http://www.baidu.com\", proxies=proxies)\n",
    "print(req.status_code)\n"
   ]
  },
  {
   "cell_type": "markdown",
   "metadata": {},
   "source": [
    "- requests的认证"
   ]
  },
  {
   "cell_type": "code",
   "execution_count": 108,
   "metadata": {
    "collapsed": false
   },
   "outputs": [
    {
     "name": "stdout",
     "output_type": "stream",
     "text": [
      "200\n"
     ]
    }
   ],
   "source": [
    "import requests\n",
    "from requests.auth import HTTPBasicAuth\n",
    "\n",
    "r = requests.get('http://120.27.34.24:9001', auth=HTTPBasicAuth('user', '123'))\n",
    "print(r.status_code)"
   ]
  },
  {
   "cell_type": "code",
   "execution_count": null,
   "metadata": {
    "collapsed": true
   },
   "outputs": [],
   "source": []
  }
 ],
 "metadata": {
  "kernelspec": {
   "display_name": "Python 3",
   "language": "python",
   "name": "python3"
  },
  "language_info": {
   "codemirror_mode": {
    "name": "ipython",
    "version": 3
   },
   "file_extension": ".py",
   "mimetype": "text/x-python",
   "name": "python",
   "nbconvert_exporter": "python",
   "pygments_lexer": "ipython3",
   "version": "3.5.2"
  }
 },
 "nbformat": 4,
 "nbformat_minor": 2
}
